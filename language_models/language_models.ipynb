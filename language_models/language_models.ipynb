{
 "cells": [
  {
   "cell_type": "code",
   "execution_count": 1,
   "metadata": {},
   "outputs": [],
   "source": [
    "import torch\n",
    "import torch.nn.functional as F\n",
    "import plotly.graph_objects as go\n",
    "import matplotlib.pyplot as plt\n",
    "%matplotlib inline"
   ]
  },
  {
   "cell_type": "code",
   "execution_count": 19,
   "metadata": {},
   "outputs": [
    {
     "name": "stdout",
     "output_type": "stream",
     "text": [
      "['.', 'a', 'b', 'c', 'd', 'e', 'f', 'g', 'h', 'i', 'j', 'k', 'l', 'm', 'n', 'o', 'p', 'q', 'r', 's', 't', 'u', 'v', 'w', 'x', 'y', 'z'] 27\n"
     ]
    }
   ],
   "source": [
    "from urllib.request import urlopen\n",
    "lines = urlopen('https://raw.githubusercontent.com/jjgold012/nlp_stuff/main/data/names.txt').read().splitlines()\n",
    "words = [l.decode('utf-8') for l in lines]\n",
    "\n",
    "chrs = ['.'] + sorted(list(set(''.join(words))))\n",
    "chrs_to_idx = {c: i for i,c in enumerate(chrs)}\n",
    "idx_to_chrs = {i: c for i,c in enumerate(chrs)}\n",
    "num_of_chrs = len(chrs)\n",
    "print(chrs, num_of_chrs)"
   ]
  },
  {
   "cell_type": "markdown",
   "metadata": {},
   "source": [
    "# Bigram"
   ]
  },
  {
   "cell_type": "code",
   "execution_count": 20,
   "metadata": {},
   "outputs": [],
   "source": [
    "bigrams = torch.zeros(len(chrs),len(chrs), dtype=torch.int16)\n",
    "for w in words:\n",
    "    w_chrs = ['.'] + list(w) + ['.']\n",
    "    for b in zip(w_chrs, w_chrs[1:]):\n",
    "        bigrams[chrs_to_idx[b[0]], chrs_to_idx[b[1]]] += 1\n"
   ]
  },
  {
   "cell_type": "code",
   "execution_count": 8,
   "metadata": {},
   "outputs": [],
   "source": [
    "\n",
    "# plt.figure(figsize=(16,16))\n",
    "# plt.imshow(bigrams, cmap='Blues')\n",
    "# for i,j in [(i,j) for i in range(len(chrs)) for j in range(len(chrs))]:\n",
    "#     plt.text(j,i, idx_to_chrs[i]+idx_to_chrs[j],ha='center', va='bottom')\n",
    "#     plt.text(j,i, bigrams[i,j].item(),ha='center', va='top')\n"
   ]
  },
  {
   "cell_type": "code",
   "execution_count": 21,
   "metadata": {},
   "outputs": [
    {
     "name": "stdout",
     "output_type": "stream",
     "text": [
      "junide\n",
      "janasah\n",
      "p\n",
      "cony\n",
      "a\n"
     ]
    }
   ],
   "source": [
    "g = torch.Generator().manual_seed(2147483647)\n",
    "prob = bigrams / bigrams.sum(dim=1, keepdim=True)\n",
    "\n",
    "def gen():\n",
    "    i = 0\n",
    "    w = []\n",
    "    while True:\n",
    "        i = torch.multinomial(prob[i], num_samples=1, replacement=True, generator=g).item()\n",
    "        if i == 0:\n",
    "            break\n",
    "        w.append(idx_to_chrs[i])\n",
    "        \n",
    "    return ''.join(w) \n",
    "\n",
    "for i in range(5):\n",
    "    print(gen())    "
   ]
  },
  {
   "cell_type": "markdown",
   "metadata": {},
   "source": [
    "## loglikelihood loss\n"
   ]
  },
  {
   "cell_type": "code",
   "execution_count": 22,
   "metadata": {},
   "outputs": [
    {
     "name": "stdout",
     "output_type": "stream",
     "text": [
      "minus log likelihood:  tensor(2.4541)\n"
     ]
    }
   ],
   "source": [
    "ll = 0.\n",
    "n = 0\n",
    "for w in words:\n",
    "    w_chrs = ['.'] + list(w) + ['.']\n",
    "    for b in zip(w_chrs, w_chrs[1:]):\n",
    "        ll += torch.log(prob[chrs_to_idx[b[0]], chrs_to_idx[b[1]]])\n",
    "        n += 1\n",
    "\n",
    "print(\"minus log likelihood: \", -ll / n)\n"
   ]
  },
  {
   "cell_type": "markdown",
   "metadata": {},
   "source": [
    "## single layer neural net equivalent"
   ]
  },
  {
   "cell_type": "code",
   "execution_count": 23,
   "metadata": {},
   "outputs": [],
   "source": [
    "xs = []\n",
    "ys=[]\n",
    "for w in words:\n",
    "    w_chrs = ['.'] + list(w) + ['.']\n",
    "    for b in zip(w_chrs, w_chrs[1:]):\n",
    "        xs.append(chrs_to_idx[b[0]]) \n",
    "        ys.append(chrs_to_idx[b[1]])\n",
    "\n",
    "xs = torch.tensor(xs)\n",
    "ys = torch.tensor(ys)\n"
   ]
  },
  {
   "cell_type": "markdown",
   "metadata": {},
   "source": [
    "### train loop"
   ]
  },
  {
   "cell_type": "code",
   "execution_count": 24,
   "metadata": {},
   "outputs": [
    {
     "name": "stdout",
     "output_type": "stream",
     "text": [
      "torch.Size([228146]) 27\n"
     ]
    }
   ],
   "source": [
    "\n",
    "g = torch.Generator().manual_seed(2147483647)\n",
    "\n",
    "W = torch.randn((num_of_chrs, num_of_chrs), generator=g, requires_grad=True)\n",
    "print(xs.shape, num_of_chrs)\n",
    "x_enc = F.one_hot(xs, num_classes=num_of_chrs).float()\n"
   ]
  },
  {
   "cell_type": "code",
   "execution_count": 25,
   "metadata": {},
   "outputs": [
    {
     "name": "stdout",
     "output_type": "stream",
     "text": [
      "0 3.758953332901001\n",
      "100 2.5751142501831055\n",
      "200 2.5094540119171143\n",
      "300 2.4884207248687744\n",
      "400 2.4785091876983643\n",
      "500 2.4727985858917236\n",
      "600 2.4691412448883057\n",
      "700 2.466632127761841\n",
      "800 2.4648189544677734\n",
      "900 2.463451385498047\n",
      "1000 2.4623842239379883\n",
      "1100 2.4615273475646973\n",
      "1200 2.4608237743377686\n",
      "1300 2.460235357284546\n",
      "1400 2.459735870361328\n",
      "1500 2.4593067169189453\n",
      "1600 2.4589343070983887\n",
      "1700 2.4586076736450195\n",
      "1800 2.4583194255828857\n",
      "1900 2.4580636024475098\n",
      "2000 2.4578351974487305\n",
      "2100 2.457629680633545\n",
      "2200 2.4574437141418457\n",
      "2300 2.457275152206421\n",
      "2400 2.4571218490600586\n",
      "2500 2.4569814205169678\n",
      "2600 2.456852674484253\n",
      "2700 2.4567339420318604\n",
      "2800 2.4566240310668945\n",
      "2900 2.4565224647521973\n",
      "3000 2.456428050994873\n",
      "3100 2.4563398361206055\n",
      "3200 2.4562578201293945\n",
      "3300 2.456181049346924\n",
      "3400 2.456108808517456\n",
      "3500 2.4560413360595703\n",
      "3600 2.455977201461792\n",
      "3700 2.4559175968170166\n",
      "3800 2.4558606147766113\n",
      "3900 2.4558067321777344\n",
      "4000 2.4557559490203857\n",
      "4100 2.4557080268859863\n",
      "4200 2.455662250518799\n",
      "4300 2.455618381500244\n",
      "4400 2.4555766582489014\n",
      "4500 2.4555373191833496\n",
      "4600 2.4554994106292725\n",
      "4700 2.4554636478424072\n",
      "4800 2.4554293155670166\n",
      "4900 2.4553961753845215\n"
     ]
    }
   ],
   "source": [
    "for i in range(5000):\n",
    "    logits = x_enc @ W\n",
    "    counts = logits.exp()\n",
    "    prob = counts / counts.sum(dim=1, keepdim=True)\n",
    "    loss = -prob[torch.arange(ys.shape[0]), ys].log().mean()\n",
    "    if i%100==0: print(i, loss.item())\n",
    "\n",
    "    # backward pass\n",
    "    W.grad = None\n",
    "    loss.backward()\n",
    "\n",
    "    # update weights\n",
    "    W.data -= 10 * W.grad"
   ]
  },
  {
   "cell_type": "code",
   "execution_count": 26,
   "metadata": {},
   "outputs": [
    {
     "name": "stdout",
     "output_type": "stream",
     "text": [
      "all: 2.45536470413208\n"
     ]
    }
   ],
   "source": [
    "logits = x_enc @ W\n",
    "counts = logits.exp()\n",
    "prob = counts / counts.sum(dim=1, keepdim=True)\n",
    "loss = -prob[torch.arange(ys.shape[0]), ys].log().mean()\n",
    "print(\"all:\", loss.item())"
   ]
  },
  {
   "cell_type": "code",
   "execution_count": 27,
   "metadata": {},
   "outputs": [
    {
     "name": "stdout",
     "output_type": "stream",
     "text": [
      "junide\n",
      "janasah\n",
      "p\n",
      "cony\n",
      "a\n"
     ]
    }
   ],
   "source": [
    "g = torch.Generator().manual_seed(2147483647)\n",
    "def gen2():\n",
    "    i = 0\n",
    "    w = []\n",
    "    while True:\n",
    "        logits = F.one_hot(torch.tensor(i), num_classes=len(idx_to_chrs)).float() @ W\n",
    "        prob = logits.softmax(dim=0)\n",
    "        i = torch.multinomial(prob, num_samples=1, replacement=True, generator=g).item()\n",
    "        if i == 0:\n",
    "            break\n",
    "        w.append(idx_to_chrs[i])\n",
    "        \n",
    "    return ''.join(w) \n",
    "\n",
    "for i in range(5):\n",
    "    print(gen2())   "
   ]
  },
  {
   "cell_type": "markdown",
   "metadata": {},
   "source": [
    "# MLP\n",
    "\n",
    "simple"
   ]
  },
  {
   "cell_type": "code",
   "execution_count": 28,
   "metadata": {},
   "outputs": [
    {
     "name": "stdout",
     "output_type": "stream",
     "text": [
      "182534 22760 22852\n"
     ]
    }
   ],
   "source": [
    "\n",
    "def build_dataset(ws, context_size):\n",
    "    xs = []\n",
    "    ys = []\n",
    "    for w in ws:\n",
    "        w_chrs = list(w) + ['.']\n",
    "        context = [0]*context_size\n",
    "        for c in w_chrs:\n",
    "            xs.append(context) \n",
    "            ys.append(chrs_to_idx[c])\n",
    "            context = context[1:] + [chrs_to_idx[c]]\n",
    "\n",
    "    xs = torch.tensor(xs)\n",
    "    ys = torch.tensor(ys)\n",
    "    return xs, ys\n",
    "\n",
    "context_size = 3\n",
    "i = int(0.8*len(words))\n",
    "j = int(0.9*len(words))\n",
    "\n",
    "import random\n",
    "random.seed(7)\n",
    "random.shuffle(words)\n",
    "\n",
    "xs, ys = build_dataset(words, context_size)\n",
    "xs_train, ys_train = build_dataset(words[:i], context_size)\n",
    "xs_dev, ys_dev = build_dataset(words[i:j], context_size)\n",
    "xs_test, ys_test = build_dataset(words[j:], context_size)\n",
    "print(xs_train.shape[0], xs_dev.shape[0], xs_test.shape[0])\n"
   ]
  },
  {
   "cell_type": "code",
   "execution_count": null,
   "metadata": {},
   "outputs": [
    {
     "name": "stdout",
     "output_type": "stream",
     "text": [
      "21662\n"
     ]
    }
   ],
   "source": [
    "g = torch.Generator().manual_seed(2147483647)\n",
    "\n",
    "embed_dim = 5\n",
    "n_hidden = 500\n",
    "C = torch.randn((num_of_chrs, embed_dim))\n",
    "W1 = torch.randn((embed_dim*context_size, n_hidden ))*0.2\n",
    "b1 = torch.randn(W1.shape[1])*0.01\n",
    "W2 = torch.randn((W1.shape[1], num_of_chrs))*0.01\n",
    "b2 = torch.randn(W2.shape[1])*0\n",
    "parameters = [C, W1, b1, W2, b2]\n",
    "for p in parameters:\n",
    "    p.requires_grad = True\n",
    "print(sum(p.nelement() for p in parameters))\n",
    "\n",
    "with torch.no_grad():\n",
    "    embed = C[xs_dev]\n",
    "    m_pre_act = embed.view((embed.shape[0], -1)) @ W1 + b1\n",
    "    m = torch.tanh(m_pre_act)\n",
    "    logits = m @ W2 + b2\n",
    "    loss = F.cross_entropy(logits, ys_dev)\n",
    "    print(loss.item())\n",
    "    plt.hist(m.view(-1).tolist(), 50)\n",
    "    plt.show()\n",
    "    plt.hist(m_pre_act.view(-1).tolist(), 50)\n",
    "    plt.show()\n",
    "    plt.figure(figsize=(50,10))\n",
    "    plt.imshow(m.abs()>0.99,cmap='gray', interpolation='nearest')\n",
    "    plt.show()\n",
    "# test_params()"
   ]
  },
  {
   "cell_type": "code",
   "execution_count": null,
   "metadata": {},
   "outputs": [
    {
     "name": "stdout",
     "output_type": "stream",
     "text": [
      "0 3.2655346393585205\n",
      "1000 2.2944958209991455\n",
      "2000 2.499225378036499\n",
      "3000 2.3313775062561035\n",
      "4000 2.10540509223938\n",
      "5000 2.297152280807495\n",
      "6000 2.531853675842285\n",
      "7000 2.3293163776397705\n",
      "8000 2.2992899417877197\n",
      "9000 2.3347549438476562\n",
      "10000 2.6640679836273193\n",
      "11000 1.8616371154785156\n",
      "12000 2.454564332962036\n",
      "13000 2.2742693424224854\n",
      "14000 2.308377504348755\n",
      "15000 2.075568437576294\n",
      "16000 2.3326659202575684\n",
      "17000 2.291686773300171\n",
      "18000 2.219526767730713\n",
      "19000 2.1241185665130615\n",
      "20000 2.1274919509887695\n",
      "21000 2.0211551189422607\n",
      "22000 2.2954092025756836\n",
      "23000 2.2583038806915283\n",
      "24000 1.9602590799331665\n",
      "25000 2.294100284576416\n",
      "26000 2.319150447845459\n",
      "27000 2.2040250301361084\n",
      "28000 2.1496734619140625\n",
      "29000 2.025085687637329\n",
      "30000 2.169390916824341\n",
      "31000 2.354123830795288\n",
      "32000 1.9640159606933594\n",
      "33000 2.129279136657715\n",
      "34000 1.9911309480667114\n",
      "35000 2.3024656772613525\n",
      "36000 2.5586397647857666\n",
      "37000 2.2777657508850098\n",
      "38000 2.2519872188568115\n",
      "39000 2.1964404582977295\n",
      "40000 2.0083813667297363\n",
      "41000 2.19979190826416\n",
      "42000 2.49739408493042\n",
      "43000 2.031205892562866\n",
      "44000 2.300388813018799\n",
      "45000 2.249418020248413\n",
      "46000 2.2329318523406982\n",
      "47000 2.1632773876190186\n",
      "48000 2.34405779838562\n",
      "49000 1.9093466997146606\n",
      "50000 2.5541739463806152\n",
      "51000 2.171353816986084\n",
      "52000 2.2552897930145264\n",
      "53000 2.0136287212371826\n",
      "54000 2.2259483337402344\n",
      "55000 2.029198408126831\n",
      "56000 2.1592113971710205\n",
      "57000 1.9815934896469116\n",
      "58000 2.0424983501434326\n",
      "59000 2.1544198989868164\n",
      "60000 2.3901216983795166\n",
      "61000 2.2003490924835205\n",
      "62000 2.1333565711975098\n",
      "63000 2.055164098739624\n",
      "64000 2.0718631744384766\n",
      "65000 2.316103458404541\n",
      "66000 2.2465813159942627\n",
      "67000 1.8857611417770386\n",
      "68000 2.0020413398742676\n",
      "69000 2.197110891342163\n",
      "70000 2.1712653636932373\n",
      "71000 2.4117848873138428\n",
      "72000 2.210099697113037\n",
      "73000 2.180182933807373\n",
      "74000 2.211284875869751\n",
      "75000 2.4320037364959717\n",
      "76000 2.3252944946289062\n",
      "77000 2.2702372074127197\n",
      "78000 2.3818202018737793\n",
      "79000 2.0659735202789307\n",
      "80000 2.228767156600952\n",
      "81000 2.2594261169433594\n",
      "82000 2.2838504314422607\n",
      "83000 2.429708957672119\n",
      "84000 2.127969980239868\n",
      "85000 1.942370057106018\n",
      "86000 2.074845552444458\n",
      "87000 2.0237836837768555\n",
      "88000 2.0666160583496094\n",
      "89000 2.491776704788208\n",
      "90000 2.1186892986297607\n",
      "91000 2.078772783279419\n",
      "92000 1.9063833951950073\n",
      "93000 2.076686143875122\n",
      "94000 1.7777087688446045\n",
      "95000 2.1093132495880127\n",
      "96000 2.222928524017334\n",
      "97000 2.357452869415283\n",
      "98000 2.068899393081665\n",
      "99000 2.1020288467407227\n",
      "100000 2.143737554550171\n",
      "101000 2.2257652282714844\n",
      "102000 2.0907623767852783\n",
      "103000 2.009136915206909\n",
      "104000 1.8983415365219116\n",
      "105000 2.29555344581604\n",
      "106000 2.0939953327178955\n",
      "107000 2.347001552581787\n",
      "108000 2.2178142070770264\n",
      "109000 2.1009035110473633\n",
      "110000 2.4076874256134033\n",
      "111000 2.144986867904663\n",
      "112000 2.3380649089813232\n",
      "113000 2.2606279850006104\n",
      "114000 2.2281334400177\n",
      "115000 2.2161831855773926\n",
      "116000 2.0316615104675293\n",
      "117000 2.1898036003112793\n",
      "118000 2.240064859390259\n",
      "119000 2.241053342819214\n",
      "120000 2.2357521057128906\n",
      "121000 1.9865171909332275\n",
      "122000 2.004951238632202\n",
      "123000 2.2229700088500977\n",
      "124000 2.179335594177246\n",
      "125000 1.9250900745391846\n",
      "126000 2.1316304206848145\n",
      "127000 2.0585246086120605\n",
      "128000 2.057121753692627\n",
      "129000 2.1088240146636963\n",
      "130000 2.1419217586517334\n",
      "131000 1.9624688625335693\n",
      "132000 1.9460875988006592\n",
      "133000 2.120551109313965\n",
      "134000 2.298882484436035\n",
      "135000 2.0050415992736816\n",
      "136000 2.4057462215423584\n",
      "137000 2.0487444400787354\n",
      "138000 2.0377538204193115\n",
      "139000 1.9691414833068848\n",
      "140000 2.0691592693328857\n",
      "141000 2.194136381149292\n",
      "142000 2.252300500869751\n",
      "143000 2.1597249507904053\n",
      "144000 2.2431726455688477\n",
      "145000 2.061715841293335\n",
      "146000 1.8393462896347046\n",
      "147000 1.94150710105896\n",
      "148000 2.1422669887542725\n",
      "149000 2.045360565185547\n",
      "150000 2.3328053951263428\n",
      "151000 1.9031895399093628\n",
      "152000 1.9528542757034302\n",
      "153000 1.955893635749817\n",
      "154000 2.1923463344573975\n",
      "155000 2.3516769409179688\n",
      "156000 1.5006879568099976\n",
      "157000 2.0969789028167725\n",
      "158000 2.4852874279022217\n",
      "159000 1.9336103200912476\n",
      "160000 2.1606287956237793\n",
      "161000 2.104078531265259\n",
      "162000 2.157994508743286\n",
      "163000 2.325340747833252\n",
      "164000 1.6288948059082031\n",
      "165000 2.233170747756958\n",
      "166000 2.322556972503662\n",
      "167000 1.9936929941177368\n",
      "168000 1.996013879776001\n",
      "169000 1.9153358936309814\n",
      "170000 2.2162578105926514\n",
      "171000 2.085350275039673\n",
      "172000 2.05332612991333\n",
      "173000 2.1007964611053467\n",
      "174000 2.1956822872161865\n",
      "175000 1.9111825227737427\n",
      "176000 2.3228423595428467\n",
      "177000 2.235663652420044\n",
      "178000 2.160179615020752\n",
      "179000 1.7872071266174316\n",
      "180000 2.1765365600585938\n",
      "181000 2.2514588832855225\n",
      "182000 2.080986261367798\n",
      "183000 1.9245762825012207\n",
      "184000 2.1403706073760986\n",
      "185000 1.996996521949768\n",
      "186000 2.571648120880127\n",
      "187000 2.181399345397949\n",
      "188000 2.130063772201538\n",
      "189000 1.7723361253738403\n",
      "190000 2.0993664264678955\n",
      "191000 1.9909049272537231\n",
      "192000 2.2837166786193848\n",
      "193000 1.829259991645813\n",
      "194000 1.9104286432266235\n",
      "195000 2.1572916507720947\n",
      "196000 2.4003376960754395\n",
      "197000 2.269516944885254\n",
      "198000 2.2564022541046143\n",
      "199000 2.2640225887298584\n",
      "200000 2.4341886043548584\n",
      "201000 1.8069015741348267\n",
      "202000 1.9878841638565063\n",
      "203000 2.1390604972839355\n",
      "204000 1.9545948505401611\n",
      "205000 2.3174490928649902\n",
      "206000 1.8289176225662231\n",
      "207000 1.9431401491165161\n",
      "208000 2.047950267791748\n",
      "209000 2.1692678928375244\n",
      "210000 2.275540590286255\n",
      "211000 2.0748183727264404\n",
      "212000 2.1652729511260986\n",
      "213000 2.1138200759887695\n",
      "214000 1.9481494426727295\n",
      "215000 1.949039101600647\n",
      "216000 1.9242624044418335\n",
      "217000 2.111673593521118\n",
      "218000 2.287346601486206\n",
      "219000 2.073350667953491\n",
      "220000 1.6013603210449219\n",
      "221000 1.7342156171798706\n",
      "222000 1.971081018447876\n",
      "223000 2.2146806716918945\n",
      "224000 1.9186434745788574\n",
      "225000 2.118086814880371\n",
      "226000 1.7752439975738525\n",
      "227000 2.141375780105591\n",
      "228000 2.037501335144043\n",
      "229000 2.102107048034668\n",
      "230000 1.9032797813415527\n",
      "231000 1.9620401859283447\n",
      "232000 2.0933706760406494\n",
      "233000 2.342759609222412\n",
      "234000 2.32122540473938\n",
      "235000 2.223811149597168\n",
      "236000 1.961150050163269\n",
      "237000 2.1717827320098877\n",
      "238000 1.9524930715560913\n",
      "239000 1.9290404319763184\n",
      "240000 2.0786595344543457\n",
      "241000 1.9344420433044434\n",
      "242000 2.2711668014526367\n",
      "243000 2.2561089992523193\n",
      "244000 1.9699015617370605\n",
      "245000 1.9231998920440674\n",
      "246000 1.7597788572311401\n",
      "247000 1.7261683940887451\n",
      "248000 2.1304209232330322\n",
      "249000 1.9031074047088623\n",
      "250000 2.1129331588745117\n",
      "251000 1.8139528036117554\n",
      "252000 2.0173182487487793\n",
      "253000 2.112413167953491\n",
      "254000 2.0360894203186035\n",
      "255000 1.9860246181488037\n",
      "256000 2.010890483856201\n",
      "257000 2.111607789993286\n",
      "258000 2.0049784183502197\n",
      "259000 1.9589722156524658\n",
      "260000 1.9607902765274048\n",
      "261000 2.3292198181152344\n",
      "262000 1.8043735027313232\n",
      "263000 1.815315842628479\n",
      "264000 2.194911003112793\n",
      "265000 1.995822787284851\n",
      "266000 1.964348316192627\n",
      "267000 2.0277857780456543\n",
      "268000 2.023620367050171\n",
      "269000 2.0973403453826904\n",
      "270000 1.887046456336975\n",
      "271000 2.299050807952881\n",
      "272000 2.1677627563476562\n",
      "273000 2.1978447437286377\n",
      "274000 2.111340284347534\n",
      "275000 2.159331798553467\n",
      "276000 2.0311338901519775\n",
      "277000 2.161616086959839\n",
      "278000 1.9792629480361938\n",
      "279000 1.9009745121002197\n",
      "280000 1.9277737140655518\n",
      "281000 2.1410019397735596\n",
      "282000 1.964383602142334\n",
      "283000 1.6593087911605835\n",
      "284000 1.9858802556991577\n",
      "285000 2.0934040546417236\n",
      "286000 2.061441659927368\n",
      "287000 2.1197855472564697\n",
      "288000 1.9378323554992676\n",
      "289000 1.9442945718765259\n",
      "290000 2.000532627105713\n",
      "291000 1.9959206581115723\n",
      "292000 2.137211322784424\n",
      "293000 1.8287789821624756\n",
      "294000 2.098541021347046\n",
      "295000 2.0521090030670166\n",
      "296000 1.898592472076416\n",
      "297000 2.273470401763916\n",
      "298000 1.6321779489517212\n",
      "299000 2.2150943279266357\n",
      "300000 2.100468158721924\n",
      "301000 2.1243467330932617\n",
      "302000 2.0861318111419678\n",
      "303000 2.0603880882263184\n",
      "304000 2.0664098262786865\n",
      "305000 1.8137081861495972\n",
      "306000 2.0941131114959717\n",
      "307000 1.9394656419754028\n",
      "308000 2.2216098308563232\n",
      "309000 2.067497730255127\n",
      "310000 2.076738119125366\n",
      "311000 1.8695354461669922\n",
      "312000 1.9184898138046265\n",
      "313000 1.9746302366256714\n",
      "314000 1.970455288887024\n",
      "315000 1.81734037399292\n",
      "316000 2.359879493713379\n",
      "317000 2.5020334720611572\n",
      "318000 1.8717701435089111\n",
      "319000 2.336595296859741\n",
      "320000 2.200376272201538\n",
      "321000 1.998759388923645\n",
      "322000 1.8220717906951904\n",
      "323000 1.8761100769042969\n",
      "324000 1.910353183746338\n",
      "325000 2.141462802886963\n",
      "326000 2.0015313625335693\n",
      "327000 2.0053694248199463\n",
      "328000 1.828920841217041\n",
      "329000 1.8888757228851318\n",
      "330000 2.225111484527588\n",
      "331000 2.0010194778442383\n",
      "332000 2.1909523010253906\n",
      "333000 1.7914372682571411\n",
      "334000 1.8928903341293335\n",
      "335000 1.8461360931396484\n",
      "336000 2.150831937789917\n",
      "337000 2.1849091053009033\n",
      "338000 1.7912427186965942\n",
      "339000 1.9125410318374634\n",
      "340000 1.8714689016342163\n",
      "341000 1.9518288373947144\n",
      "342000 2.183487892150879\n",
      "343000 2.0833747386932373\n",
      "344000 2.013341188430786\n",
      "345000 1.8567230701446533\n",
      "346000 2.022986888885498\n",
      "347000 2.196113109588623\n",
      "348000 1.9330564737319946\n",
      "349000 1.9616131782531738\n",
      "350000 2.037389039993286\n",
      "351000 1.962401270866394\n",
      "352000 2.103424072265625\n",
      "353000 2.0740790367126465\n",
      "354000 1.4444218873977661\n",
      "355000 2.0745930671691895\n",
      "356000 1.8164961338043213\n",
      "357000 1.8009878396987915\n",
      "358000 2.2524940967559814\n",
      "359000 1.5657728910446167\n",
      "360000 1.8903759717941284\n",
      "361000 1.95368492603302\n",
      "362000 2.2081146240234375\n",
      "363000 1.8277720212936401\n",
      "364000 1.9802955389022827\n",
      "365000 2.333064317703247\n",
      "366000 1.9455584287643433\n",
      "367000 2.006222724914551\n",
      "368000 1.802075982093811\n",
      "369000 1.9925535917282104\n",
      "370000 1.8812748193740845\n",
      "371000 1.992969274520874\n",
      "372000 1.8999086618423462\n",
      "373000 2.2646219730377197\n",
      "374000 2.1527819633483887\n",
      "375000 2.0252482891082764\n",
      "376000 1.82746160030365\n",
      "377000 2.1228206157684326\n",
      "378000 2.0600316524505615\n",
      "379000 1.8281062841415405\n",
      "380000 2.0323846340179443\n",
      "381000 1.9502320289611816\n",
      "382000 1.880686640739441\n",
      "383000 1.9838699102401733\n",
      "384000 2.0503251552581787\n",
      "385000 1.8583747148513794\n",
      "386000 1.8186497688293457\n",
      "387000 1.9569309949874878\n",
      "388000 1.9782869815826416\n",
      "389000 1.8392528295516968\n",
      "390000 2.053959369659424\n",
      "391000 2.273101568222046\n",
      "392000 2.1951189041137695\n",
      "393000 2.1155107021331787\n",
      "394000 2.230839967727661\n",
      "395000 2.0710020065307617\n",
      "396000 2.271165370941162\n",
      "397000 2.1631357669830322\n",
      "398000 1.9900249242782593\n",
      "399000 2.0213193893432617\n"
     ]
    }
   ],
   "source": [
    "batch_size = 60\n",
    "\n",
    "lossi = []\n",
    "# lre = torch.linspace(-3,0,1000)\n",
    "# lrii = 10**lre\n",
    "\n",
    "def batch_forward(x,y):\n",
    "    emb = C[x]\n",
    "    m = torch.tanh(emb.view((emb.shape[0], -1)) @ W1 + b1)\n",
    "    logits = m @ W2 + b2\n",
    "    return F.cross_entropy(logits, y)\n",
    "\n",
    "\n",
    "\n",
    "for i in range(400000):\n",
    "    # batch\n",
    "    idx = torch.randint(0, xs_train.shape[0], (batch_size,))\n",
    "    x = xs_train[idx]\n",
    "    y = ys_train[idx]\n",
    "    \n",
    "    # forward\n",
    "    loss = batch_forward(x,y)\n",
    "\n",
    "    # backwards\n",
    "    for p in parameters:\n",
    "        p.grad = None\n",
    "    loss.backward()\n",
    "\n",
    "    # update\n",
    "    def lr():\n",
    "        if i<200000: return  1e-1\n",
    "        elif i<300000: return 1e-2\n",
    "        else: return 1e-3\n",
    "    lri = lr()\n",
    "    for p in parameters:\n",
    "        p.data += -lri * p.grad\n",
    "\n",
    "    lossi.append(loss.log10().item())\n",
    "    if i % 1000 == 0: print(i, loss.item())\n",
    "    \n"
   ]
  },
  {
   "cell_type": "code",
   "execution_count": null,
   "metadata": {},
   "outputs": [
    {
     "data": {
      "text/plain": [
       "[<matplotlib.lines.Line2D at 0x7f5b86f69cf0>]"
      ]
     },
     "execution_count": 47,
     "metadata": {},
     "output_type": "execute_result"
    },
    {
     "data": {
      "image/png": "[encoded data removed]",
      "text/plain": [
       "<Figure size 640x480 with 1 Axes>"
      ]
     },
     "metadata": {},
     "output_type": "display_data"
    }
   ],
   "source": [
    "plt.plot(lossi)"
   ]
  },
  {
   "cell_type": "code",
   "execution_count": null,
   "metadata": {},
   "outputs": [
    {
     "name": "stdout",
     "output_type": "stream",
     "text": [
      "all: 2.018998861312866\n",
      "train: 1.9995982646942139\n",
      "dev: 2.092005729675293\n"
     ]
    }
   ],
   "source": [
    "@torch.no_grad()\n",
    "def calc_loss(x,y):\n",
    "    \n",
    "    emb = C[x]\n",
    "    m = torch.tanh(emb.view(emb.shape[0], -1) @ W1 + b1)\n",
    "    logits = m @ W2 + b2\n",
    "    return F.cross_entropy(logits, y)\n",
    "loss = calc_loss(xs, ys)\n",
    "print(\"all:\", loss.item())\n",
    "loss = calc_loss(xs_train, ys_train)\n",
    "print(\"train:\", loss.item())\n",
    "loss = calc_loss(xs_dev, ys_dev)\n",
    "print(\"dev:\", loss.item())\n"
   ]
  },
  {
   "cell_type": "code",
   "execution_count": null,
   "metadata": {},
   "outputs": [
    {
     "name": "stdout",
     "output_type": "stream",
     "text": [
      "test: 2.101776361465454\n"
     ]
    }
   ],
   "source": [
    "loss = calc_loss(xs_test, ys_test)\n",
    "print(\"test:\", loss.item())"
   ]
  },
  {
   "cell_type": "code",
   "execution_count": null,
   "metadata": {},
   "outputs": [
    {
     "name": "stdout",
     "output_type": "stream",
     "text": [
      "(27, 3)\n",
      "[-0.21051629  0.4651135   0.9678167   1.5283791  -0.03549856  0.22370246\n",
      "  0.05884338  0.26314777  0.0165347  -0.04325281 -0.12550206 -0.00277822\n",
      " -0.5669253  -0.17700806 -0.41221038  0.2925384   0.18332364 -0.6108084\n",
      " -0.29116392 -0.01535065  0.02738359  0.16958687 -0.21189423 -0.00622117\n",
      "  1.1273987  -0.2924037  -0.13241486]\n"
     ]
    },
    {
     "data": {
      "application/vnd.plotly.v1+json": {
       "config": {
        "plotlyServerURL": "https://plot.ly"
       },
       "data": [
        {
         "mode": "markers",
         "text": [
          ".",
          "a",
          "b",
          "c",
          "d",
          "e",
          "f",
          "g",
          "h",
          "i",
          "j",
          "k",
          "l",
          "m",
          "n",
          "o",
          "p",
          "q",
          "r",
          "s",
          "t",
          "u",
          "v",
          "w",
          "x",
          "y",
          "z"
         ],
         "type": "scatter3d",
         "x": [
          -0.2105162888765335,
          0.46511349081993103,
          0.9678167104721069,
          1.5283790826797485,
          -0.03549856320023537,
          0.22370246052742004,
          0.058843377977609634,
          0.26314777135849,
          0.016534704715013504,
          -0.04325281083583832,
          -0.1255020648241043,
          -0.002778224181383848,
          -0.5669252872467041,
          -0.17700806260108948,
          -0.4122103750705719,
          0.2925384044647217,
          0.18332363665103912,
          -0.6108083724975586,
          -0.29116392135620117,
          -0.015350650064647198,
          0.02738358825445175,
          0.16958686709403992,
          -0.211894229054451,
          -0.006221165880560875,
          1.1273987293243408,
          -0.2924036979675293,
          -0.13241486251354218
         ],
         "y": [
          2.586559534072876,
          0.10053921490907669,
          0.019907476380467415,
          0.4030764102935791,
          -0.44083166122436523,
          0.3235817849636078,
          -0.570000946521759,
          -0.46729379892349243,
          -0.37866446375846863,
          0.45878690481185913,
          -0.31153759360313416,
          -0.3889865279197693,
          -0.26892152428627014,
          -0.57591313123703,
          -0.006124814972281456,
          0.260849267244339,
          -0.4563586711883545,
          -0.3233451545238495,
          -0.21291446685791016,
          -0.20935215055942535,
          -0.3574669063091278,
          0.24600458145141602,
          -0.5452246069908142,
          -0.41920697689056396,
          0.3601735830307007,
          0.29783114790916443,
          -0.38937920331954956
         ],
         "z": [
          1.847299337387085,
          -0.0027017646934837103,
          -0.6974411606788635,
          -0.973426342010498,
          0.17047250270843506,
          0.15960635244846344,
          0.15526878833770752,
          0.2338608354330063,
          -0.1664419025182724,
          -0.06977608054876328,
          -0.07100408524274826,
          0.0864366888999939,
          0.28836172819137573,
          -0.046674709767103195,
          -0.36880558729171753,
          -0.31964999437332153,
          0.26759612560272217,
          1.016182780265808,
          0.001947922632098198,
          0.347692608833313,
          0.3877478837966919,
          -0.13704411685466766,
          0.16912995278835297,
          0.08991802483797073,
          -0.5428139567375183,
          0.03336802124977112,
          0.12892422080039978
         ]
        }
       ],
       "layout": {
        "template": {
         "data": {
          "bar": [
           {
            "error_x": {
             "color": "#2a3f5f"
            },
            "error_y": {
             "color": "#2a3f5f"
            },
            "marker": {
             "line": {
              "color": "#E5ECF6",
              "width": 0.5
             },
             "pattern": {
              "fillmode": "overlay",
              "size": 10,
              "solidity": 0.2
             }
            },
            "type": "bar"
           }
          ],
          "barpolar": [
           {
            "marker": {
             "line": {
              "color": "#E5ECF6",
              "width": 0.5
             },
             "pattern": {
              "fillmode": "overlay",
              "size": 10,
              "solidity": 0.2
             }
            },
            "type": "barpolar"
           }
          ],
          "carpet": [
           {
            "aaxis": {
             "endlinecolor": "#2a3f5f",
             "gridcolor": "white",
             "linecolor": "white",
             "minorgridcolor": "white",
             "startlinecolor": "#2a3f5f"
            },
            "baxis": {
             "endlinecolor": "#2a3f5f",
             "gridcolor": "white",
             "linecolor": "white",
             "minorgridcolor": "white",
             "startlinecolor": "#2a3f5f"
            },
            "type": "carpet"
           }
          ],
          "choropleth": [
           {
            "colorbar": {
             "outlinewidth": 0,
             "ticks": ""
            },
            "type": "choropleth"
           }
          ],
          "contour": [
           {
            "colorbar": {
             "outlinewidth": 0,
             "ticks": ""
            },
            "colorscale": [
             [
              0,
              "#0d0887"
             ],
             [
              0.1111111111111111,
              "#46039f"
             ],
             [
              0.2222222222222222,
              "#7201a8"
             ],
             [
              0.3333333333333333,
              "#9c179e"
             ],
             [
              0.4444444444444444,
              "#bd3786"
             ],
             [
              0.5555555555555556,
              "#d8576b"
             ],
             [
              0.6666666666666666,
              "#ed7953"
             ],
             [
              0.7777777777777778,
              "#fb9f3a"
             ],
             [
              0.8888888888888888,
              "#fdca26"
             ],
             [
              1,
              "#f0f921"
             ]
            ],
            "type": "contour"
           }
          ],
          "contourcarpet": [
           {
            "colorbar": {
             "outlinewidth": 0,
             "ticks": ""
            },
            "type": "contourcarpet"
           }
          ],
          "heatmap": [
           {
            "colorbar": {
             "outlinewidth": 0,
             "ticks": ""
            },
            "colorscale": [
             [
              0,
              "#0d0887"
             ],
             [
              0.1111111111111111,
              "#46039f"
             ],
             [
              0.2222222222222222,
              "#7201a8"
             ],
             [
              0.3333333333333333,
              "#9c179e"
             ],
             [
              0.4444444444444444,
              "#bd3786"
             ],
             [
              0.5555555555555556,
              "#d8576b"
             ],
             [
              0.6666666666666666,
              "#ed7953"
             ],
             [
              0.7777777777777778,
              "#fb9f3a"
             ],
             [
              0.8888888888888888,
              "#fdca26"
             ],
             [
              1,
              "#f0f921"
             ]
            ],
            "type": "heatmap"
           }
          ],
          "heatmapgl": [
           {
            "colorbar": {
             "outlinewidth": 0,
             "ticks": ""
            },
            "colorscale": [
             [
              0,
              "#0d0887"
             ],
             [
              0.1111111111111111,
              "#46039f"
             ],
             [
              0.2222222222222222,
              "#7201a8"
             ],
             [
              0.3333333333333333,
              "#9c179e"
             ],
             [
              0.4444444444444444,
              "#bd3786"
             ],
             [
              0.5555555555555556,
              "#d8576b"
             ],
             [
              0.6666666666666666,
              "#ed7953"
             ],
             [
              0.7777777777777778,
              "#fb9f3a"
             ],
             [
              0.8888888888888888,
              "#fdca26"
             ],
             [
              1,
              "#f0f921"
             ]
            ],
            "type": "heatmapgl"
           }
          ],
          "histogram": [
           {
            "marker": {
             "pattern": {
              "fillmode": "overlay",
              "size": 10,
              "solidity": 0.2
             }
            },
            "type": "histogram"
           }
          ],
          "histogram2d": [
           {
            "colorbar": {
             "outlinewidth": 0,
             "ticks": ""
            },
            "colorscale": [
             [
              0,
              "#0d0887"
             ],
             [
              0.1111111111111111,
              "#46039f"
             ],
             [
              0.2222222222222222,
              "#7201a8"
             ],
             [
              0.3333333333333333,
              "#9c179e"
             ],
             [
              0.4444444444444444,
              "#bd3786"
             ],
             [
              0.5555555555555556,
              "#d8576b"
             ],
             [
              0.6666666666666666,
              "#ed7953"
             ],
             [
              0.7777777777777778,
              "#fb9f3a"
             ],
             [
              0.8888888888888888,
              "#fdca26"
             ],
             [
              1,
              "#f0f921"
             ]
            ],
            "type": "histogram2d"
           }
          ],
          "histogram2dcontour": [
           {
            "colorbar": {
             "outlinewidth": 0,
             "ticks": ""
            },
            "colorscale": [
             [
              0,
              "#0d0887"
             ],
             [
              0.1111111111111111,
              "#46039f"
             ],
             [
              0.2222222222222222,
              "#7201a8"
             ],
             [
              0.3333333333333333,
              "#9c179e"
             ],
             [
              0.4444444444444444,
              "#bd3786"
             ],
             [
              0.5555555555555556,
              "#d8576b"
             ],
             [
              0.6666666666666666,
              "#ed7953"
             ],
             [
              0.7777777777777778,
              "#fb9f3a"
             ],
             [
              0.8888888888888888,
              "#fdca26"
             ],
             [
              1,
              "#f0f921"
             ]
            ],
            "type": "histogram2dcontour"
           }
          ],
          "mesh3d": [
           {
            "colorbar": {
             "outlinewidth": 0,
             "ticks": ""
            },
            "type": "mesh3d"
           }
          ],
          "parcoords": [
           {
            "line": {
             "colorbar": {
              "outlinewidth": 0,
              "ticks": ""
             }
            },
            "type": "parcoords"
           }
          ],
          "pie": [
           {
            "automargin": true,
            "type": "pie"
           }
          ],
          "scatter": [
           {
            "fillpattern": {
             "fillmode": "overlay",
             "size": 10,
             "solidity": 0.2
            },
            "type": "scatter"
           }
          ],
          "scatter3d": [
           {
            "line": {
             "colorbar": {
              "outlinewidth": 0,
              "ticks": ""
             }
            },
            "marker": {
             "colorbar": {
              "outlinewidth": 0,
              "ticks": ""
             }
            },
            "type": "scatter3d"
           }
          ],
          "scattercarpet": [
           {
            "marker": {
             "colorbar": {
              "outlinewidth": 0,
              "ticks": ""
             }
            },
            "type": "scattercarpet"
           }
          ],
          "scattergeo": [
           {
            "marker": {
             "colorbar": {
              "outlinewidth": 0,
              "ticks": ""
             }
            },
            "type": "scattergeo"
           }
          ],
          "scattergl": [
           {
            "marker": {
             "colorbar": {
              "outlinewidth": 0,
              "ticks": ""
             }
            },
            "type": "scattergl"
           }
          ],
          "scattermapbox": [
           {
            "marker": {
             "colorbar": {
              "outlinewidth": 0,
              "ticks": ""
             }
            },
            "type": "scattermapbox"
           }
          ],
          "scatterpolar": [
           {
            "marker": {
             "colorbar": {
              "outlinewidth": 0,
              "ticks": ""
             }
            },
            "type": "scatterpolar"
           }
          ],
          "scatterpolargl": [
           {
            "marker": {
             "colorbar": {
              "outlinewidth": 0,
              "ticks": ""
             }
            },
            "type": "scatterpolargl"
           }
          ],
          "scatterternary": [
           {
            "marker": {
             "colorbar": {
              "outlinewidth": 0,
              "ticks": ""
             }
            },
            "type": "scatterternary"
           }
          ],
          "surface": [
           {
            "colorbar": {
             "outlinewidth": 0,
             "ticks": ""
            },
            "colorscale": [
             [
              0,
              "#0d0887"
             ],
             [
              0.1111111111111111,
              "#46039f"
             ],
             [
              0.2222222222222222,
              "#7201a8"
             ],
             [
              0.3333333333333333,
              "#9c179e"
             ],
             [
              0.4444444444444444,
              "#bd3786"
             ],
             [
              0.5555555555555556,
              "#d8576b"
             ],
             [
              0.6666666666666666,
              "#ed7953"
             ],
             [
              0.7777777777777778,
              "#fb9f3a"
             ],
             [
              0.8888888888888888,
              "#fdca26"
             ],
             [
              1,
              "#f0f921"
             ]
            ],
            "type": "surface"
           }
          ],
          "table": [
           {
            "cells": {
             "fill": {
              "color": "#EBF0F8"
             },
             "line": {
              "color": "white"
             }
            },
            "header": {
             "fill": {
              "color": "#C8D4E3"
             },
             "line": {
              "color": "white"
             }
            },
            "type": "table"
           }
          ]
         },
         "layout": {
          "annotationdefaults": {
           "arrowcolor": "#2a3f5f",
           "arrowhead": 0,
           "arrowwidth": 1
          },
          "autotypenumbers": "strict",
          "coloraxis": {
           "colorbar": {
            "outlinewidth": 0,
            "ticks": ""
           }
          },
          "colorscale": {
           "diverging": [
            [
             0,
             "#8e0152"
            ],
            [
             0.1,
             "#c51b7d"
            ],
            [
             0.2,
             "#de77ae"
            ],
            [
             0.3,
             "#f1b6da"
            ],
            [
             0.4,
             "#fde0ef"
            ],
            [
             0.5,
             "#f7f7f7"
            ],
            [
             0.6,
             "#e6f5d0"
            ],
            [
             0.7,
             "#b8e186"
            ],
            [
             0.8,
             "#7fbc41"
            ],
            [
             0.9,
             "#4d9221"
            ],
            [
             1,
             "#276419"
            ]
           ],
           "sequential": [
            [
             0,
             "#0d0887"
            ],
            [
             0.1111111111111111,
             "#46039f"
            ],
            [
             0.2222222222222222,
             "#7201a8"
            ],
            [
             0.3333333333333333,
             "#9c179e"
            ],
            [
             0.4444444444444444,
             "#bd3786"
            ],
            [
             0.5555555555555556,
             "#d8576b"
            ],
            [
             0.6666666666666666,
             "#ed7953"
            ],
            [
             0.7777777777777778,
             "#fb9f3a"
            ],
            [
             0.8888888888888888,
             "#fdca26"
            ],
            [
             1,
             "#f0f921"
            ]
           ],
           "sequentialminus": [
            [
             0,
             "#0d0887"
            ],
            [
             0.1111111111111111,
             "#46039f"
            ],
            [
             0.2222222222222222,
             "#7201a8"
            ],
            [
             0.3333333333333333,
             "#9c179e"
            ],
            [
             0.4444444444444444,
             "#bd3786"
            ],
            [
             0.5555555555555556,
             "#d8576b"
            ],
            [
             0.6666666666666666,
             "#ed7953"
            ],
            [
             0.7777777777777778,
             "#fb9f3a"
            ],
            [
             0.8888888888888888,
             "#fdca26"
            ],
            [
             1,
             "#f0f921"
            ]
           ]
          },
          "colorway": [
           "#636efa",
           "#EF553B",
           "#00cc96",
           "#ab63fa",
           "#FFA15A",
           "#19d3f3",
           "#FF6692",
           "#B6E880",
           "#FF97FF",
           "#FECB52"
          ],
          "font": {
           "color": "#2a3f5f"
          },
          "geo": {
           "bgcolor": "white",
           "lakecolor": "white",
           "landcolor": "#E5ECF6",
           "showlakes": true,
           "showland": true,
           "subunitcolor": "white"
          },
          "hoverlabel": {
           "align": "left"
          },
          "hovermode": "closest",
          "mapbox": {
           "style": "light"
          },
          "paper_bgcolor": "white",
          "plot_bgcolor": "#E5ECF6",
          "polar": {
           "angularaxis": {
            "gridcolor": "white",
            "linecolor": "white",
            "ticks": ""
           },
           "bgcolor": "#E5ECF6",
           "radialaxis": {
            "gridcolor": "white",
            "linecolor": "white",
            "ticks": ""
           }
          },
          "scene": {
           "xaxis": {
            "backgroundcolor": "#E5ECF6",
            "gridcolor": "white",
            "gridwidth": 2,
            "linecolor": "white",
            "showbackground": true,
            "ticks": "",
            "zerolinecolor": "white"
           },
           "yaxis": {
            "backgroundcolor": "#E5ECF6",
            "gridcolor": "white",
            "gridwidth": 2,
            "linecolor": "white",
            "showbackground": true,
            "ticks": "",
            "zerolinecolor": "white"
           },
           "zaxis": {
            "backgroundcolor": "#E5ECF6",
            "gridcolor": "white",
            "gridwidth": 2,
            "linecolor": "white",
            "showbackground": true,
            "ticks": "",
            "zerolinecolor": "white"
           }
          },
          "shapedefaults": {
           "line": {
            "color": "#2a3f5f"
           }
          },
          "ternary": {
           "aaxis": {
            "gridcolor": "white",
            "linecolor": "white",
            "ticks": ""
           },
           "baxis": {
            "gridcolor": "white",
            "linecolor": "white",
            "ticks": ""
           },
           "bgcolor": "#E5ECF6",
           "caxis": {
            "gridcolor": "white",
            "linecolor": "white",
            "ticks": ""
           }
          },
          "title": {
           "x": 0.05
          },
          "xaxis": {
           "automargin": true,
           "gridcolor": "white",
           "linecolor": "white",
           "ticks": "",
           "title": {
            "standoff": 15
           },
           "zerolinecolor": "white",
           "zerolinewidth": 2
          },
          "yaxis": {
           "automargin": true,
           "gridcolor": "white",
           "linecolor": "white",
           "ticks": "",
           "title": {
            "standoff": 15
           },
           "zerolinecolor": "white",
           "zerolinewidth": 2
          }
         }
        }
       }
      }
     },
     "metadata": {},
     "output_type": "display_data"
    }
   ],
   "source": [
    "num_C = C.detach().numpy()\n",
    "print(num_C.shape)\n",
    "print(num_C[:,0])\n",
    "f = go.Figure(go.Scatter3d(x=num_C[:,0],y=num_C[:,1],z=num_C[:,2], text=chrs, mode=\"markers\"))\n",
    "f.show()"
   ]
  },
  {
   "cell_type": "code",
   "execution_count": null,
   "metadata": {},
   "outputs": [
    {
     "name": "stdout",
     "output_type": "stream",
     "text": [
      "junide\n",
      "jakarie\n",
      "presay\n",
      "adria\n",
      "jirrito\n",
      "sabe\n",
      "ter\n",
      "kalania\n",
      "yani\n",
      "eveah\n",
      "deyah\n",
      "roy\n",
      "tayse\n",
      "sinayla\n",
      "ter\n",
      "nouumeryfontavi\n",
      "phyne\n",
      "jah\n",
      "jaylie\n",
      "raaya\n"
     ]
    }
   ],
   "source": [
    "g = torch.Generator().manual_seed(2147483647)\n",
    "\n",
    "def gen3():\n",
    "    context = [0]*context_size\n",
    "    w = []\n",
    "    while True:\n",
    "        emb = C[context]\n",
    "        m = torch.tanh(emb.view((emb.shape[0], -1)) @ W1 + b1)\n",
    "        logits = m @ W2 + b2\n",
    "        prob = logits.softmax(dim=1)\n",
    "        # print(prob)\n",
    "        idx = torch.multinomial(prob, num_samples=1, replacement=True, generator=g).item()\n",
    "        context = context[1:] + [idx]\n",
    "        if idx == 0:\n",
    "            break\n",
    "        w.append(idx_to_chrs[idx])\n",
    "        \n",
    "    return ''.join(w) \n",
    "\n",
    "for i in range(10):\n",
    "    print(gen3())   "
   ]
  },
  {
   "cell_type": "markdown",
   "metadata": {},
   "source": [
    "# Define layers"
   ]
  },
  {
   "cell_type": "code",
   "execution_count": null,
   "metadata": {},
   "outputs": [],
   "source": [
    "from typing import Any\n",
    "\n",
    "\n",
    "class Linear:\n",
    "    def __init__(self, in_dim, out_dim, bias=True) -> None:\n",
    "        self.W = torch.randn(in_dim, out_dim) / in_dim**0.5\n",
    "        self.b = torch.zeros(out_dim) if bias else None\n",
    "\n",
    "    def __call__(self, x) -> torch.Tensor:\n",
    "        self.out = x @ self.W\n",
    "        if self.b is not None:\n",
    "            self.out += self.b\n",
    "        return self.out\n",
    "\n",
    "    def parameters(self):\n",
    "        return [self.W] + [self.b] if self.b is not None else []\n",
    "\n",
    "\n",
    "class Tanh:\n",
    "    def __call__(self, x) -> torch.Tensor:\n",
    "        self.out = torch.tanh(x)\n",
    "        return self.out\n",
    "\n",
    "    def parameters(self):\n",
    "        return []\n",
    "\n",
    "\n",
    "class BatchNorm2d:\n",
    "    def __init__(\n",
    "        self, in_dim, epsilon=1e-5, momentum=0.1, track_running_stats=True\n",
    "    ) -> None:\n",
    "        self.epsilon = epsilon\n",
    "        self.momentum = momentum\n",
    "        self.gamma = torch.ones(in_dim)\n",
    "        self.b = torch.zeros(in_dim)\n",
    "        self.training = True\n",
    "        self.running_mean = torch.zeros(in_dim)\n",
    "        self.running_var = torch.ones(in_dim)\n",
    "\n",
    "    def __call__(self, x: torch.Tensor) -> torch.Tensor:\n",
    "        x_mean = x.mean(0, keepdim=True) if self.training else self.running_mean\n",
    "        x_var = x.var(0, keepdim=True) if self.training else self.running_var\n",
    "        x_hat = (x - x_mean) / torch.sqrt(x_var + self.epsilon)\n",
    "        self.out = self.gamma * x_hat + self.b\n",
    "        if self.training:\n",
    "            with torch.no_grad():\n",
    "                self.running_mean = (\n",
    "                    1 - self.momentum\n",
    "                ) * self.running_mean + self.momentum * x_mean\n",
    "                self.running_var = (\n",
    "                    1 - self.momentum\n",
    "                ) * self.running_var + self.momentum * x_var\n",
    "        return self.out\n",
    "\n",
    "    def parameters(self):\n",
    "        return [self.W] + [self.b] if self.b is not None else []\n",
    "\n",
    "\n",
    "class Emb:\n",
    "    def __init__(self, num_of_types, emb_dim) -> None:\n",
    "        self.C = torch.randn(num_of_types, emb_dim)\n",
    "\n",
    "    def __call__(self, x_idx) -> Any:\n",
    "        self.out = self.C[x_idx]\n",
    "        return self.out\n",
    "    def parameters(self):\n",
    "        return [self.C] \n",
    "\n",
    "\n",
    "class Flatten:\n",
    "    def __call__(self, x) -> Any:\n",
    "        self.out = x.view(x.shape[0], -1)\n",
    "        return self.out\n",
    "    def parameters(self):\n",
    "        return []\n",
    "\n"
   ]
  },
  {
   "cell_type": "code",
   "execution_count": null,
   "metadata": {},
   "outputs": [],
   "source": [
    "g = torch.Generator().manual_seed(2147483647)\n",
    "\n",
    "embed_dim = 5\n",
    "n_hidden = 500\n",
    "C = torch.randn((num_of_chrs, embed_dim))\n",
    "W1 = torch.randn((embed_dim*context_size, n_hidden ))*0.2\n",
    "b1 = torch.randn(W1.shape[1])*0.01\n",
    "W2 = torch.randn((W1.shape[1], num_of_chrs))*0.01\n",
    "b2 = torch.randn(W2.shape[1])*0\n",
    "parameters = [C, W1, b1, W2, b2]\n",
    "for p in parameters:\n",
    "    p.requires_grad = True\n",
    "print(sum(p.nelement() for p in parameters))\n",
    "\n",
    "with torch.no_grad():\n",
    "    embed = C[xs_dev]\n",
    "    m_pre_act = embed.view((embed.shape[0], -1)) @ W1 + b1\n",
    "    m = torch.tanh(m_pre_act)\n",
    "    logits = m @ W2 + b2\n",
    "    loss = F.cross_entropy(logits, ys_dev)\n",
    "    print(loss.item())\n",
    "    plt.hist(m.view(-1).tolist(), 50)\n",
    "    plt.show()\n",
    "    plt.hist(m_pre_act.view(-1).tolist(), 50)\n",
    "    plt.show()\n",
    "    plt.figure(figsize=(50,10))\n",
    "    plt.imshow(m.abs()>0.99,cmap='gray', interpolation='nearest')\n",
    "    plt.show()\n",
    "# test_params()\n",
    "\n",
    "\n",
    "batch_size = 60\n",
    "\n",
    "lossi = []\n",
    "# lre = torch.linspace(-3,0,1000)\n",
    "# lrii = 10**lre\n",
    "\n",
    "def batch_forward(x,y):\n",
    "    emb = C[x]\n",
    "    m = torch.tanh(emb.view((emb.shape[0], -1)) @ W1 + b1)\n",
    "    logits = m @ W2 + b2\n",
    "    return F.cross_entropy(logits, y)\n",
    "\n",
    "\n",
    "\n",
    "for i in range(400000):\n",
    "    # batch\n",
    "    idx = torch.randint(0, xs_train.shape[0], (batch_size,))\n",
    "    x = xs_train[idx]\n",
    "    y = ys_train[idx]\n",
    "    \n",
    "    # forward\n",
    "    loss = batch_forward(x,y)\n",
    "\n",
    "    # backwardsatch_size = 60\n",
    "\n",
    "lossi = []\n",
    "# lre = torch.linspace(-3,0,1000)\n",
    "# lrii = 10**lre\n",
    "\n",
    "def batch_forward(x,y):\n",
    "    emb = C[x]\n",
    "    m = torch.tanh(emb.view((emb.shape[0], -1)) @ W1 + b1)\n",
    "    logits = m @ W2 + b2\n",
    "    return F.cross_entropy(logits, y)\n",
    "\n",
    "\n",
    "\n",
    "for i in range(400000):\n",
    "    # batch\n",
    "    idx = torch.randint(0, xs_train.shape[0], (batch_size,))\n",
    "    x = xs_train[idx]\n",
    "    y = ys_train[idx]\n",
    "    \n",
    "    # forward\n",
    "    loss = batch_forward(x,y)\n",
    "\n",
    "    # backwards\n",
    "batch_size = 60\n",
    "\n",
    "lossi = []\n",
    "# lre = torch.linspace(-3,0,1000)\n",
    "# lrii = 10**lre\n",
    "\n",
    "def batch_forward(x,y):\n",
    "    emb = C[x]\n",
    "    m = torch.tanh(emb.view((emb.shape[0], -1)) @ W1 + b1)\n",
    "    logits = m @ W2 + b2\n",
    "    return F.cross_entropy(logits, y)\n",
    "\n",
    "\n",
    "\n",
    "for i in range(400000):\n",
    "    # batch\n",
    "    idx = torch.randint(0, xs_train.shape[0], (batch_size,))\n",
    "    x = xs_train[idx]\n",
    "    y = ys_train[idx]\n",
    "    \n",
    "    # forward\n",
    "    loss = batch_forward(x,y)\n",
    "\n",
    "    # backwards"
   ]
  }
 ],
 "metadata": {
  "kernelspec": {
   "display_name": "Python 3 (ipykernel)",
   "language": "python",
   "name": "python3"
  },
  "language_info": {
   "codemirror_mode": {
    "name": "ipython",
    "version": 3
   },
   "file_extension": ".py",
   "mimetype": "text/x-python",
   "name": "python",
   "nbconvert_exporter": "python",
   "pygments_lexer": "ipython3",
   "version": "3.10.14"
  }
 },
 "nbformat": 4,
 "nbformat_minor": 2
}
