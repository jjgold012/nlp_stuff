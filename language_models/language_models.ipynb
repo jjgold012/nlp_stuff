{
 "cells": [
  {
   "cell_type": "code",
   "execution_count": 1,
   "metadata": {},
   "outputs": [],
   "source": [
    "import torch\n",
    "import plotly.graph_objects as go\n",
    "import matplotlib.pyplot as plt\n",
    "%matplotlib inline"
   ]
  },
  {
   "cell_type": "code",
   "execution_count": 2,
   "metadata": {},
   "outputs": [],
   "source": [
    "words = open('../data/names.txt', 'r').read().splitlines()\n",
    "\n",
    "chrs = ['.'] + sorted(list(set(''.join(words))))\n",
    "chrs_to_idx = {c: i for i,c in enumerate(chrs)}\n",
    "idx_to_chrs = {i: c for i,c in enumerate(chrs)}\n",
    "num_of_chrs = len(chrs)"
   ]
  },
  {
   "cell_type": "markdown",
   "metadata": {},
   "source": [
    "# Bigram"
   ]
  },
  {
   "cell_type": "code",
   "execution_count": 3,
   "metadata": {},
   "outputs": [],
   "source": [
    "bigrams = torch.zeros(len(chrs),len(chrs), dtype=torch.int16)\n",
    "for w in words:\n",
    "    w_chrs = ['.'] + list(w) + ['.']\n",
    "    for b in zip(w_chrs, w_chrs[1:]):\n",
    "        bigrams[chrs_to_idx[b[0]], chrs_to_idx[b[1]]] += 1\n"
   ]
  },
  {
   "cell_type": "code",
   "execution_count": 4,
   "metadata": {},
   "outputs": [],
   "source": [
    "\n",
    "# plt.figure(figsize=(16,16))\n",
    "# plt.imshow(bigrams, cmap='Blues')\n",
    "# for i,j in [(i,j) for i in range(len(chrs)) for j in range(len(chrs))]:\n",
    "#     plt.text(j,i, idx_to_chrs[i]+idx_to_chrs[j],ha='center', va='bottom')\n",
    "#     plt.text(j,i, bigrams[i,j].item(),ha='center', va='top')\n"
   ]
  },
  {
   "cell_type": "code",
   "execution_count": 6,
   "metadata": {},
   "outputs": [
    {
     "name": "stdout",
     "output_type": "stream",
     "text": [
      "junide\n",
      "janasah\n",
      "p\n",
      "cony\n",
      "a\n"
     ]
    }
   ],
   "source": [
    "g = torch.Generator().manual_seed(2147483647)\n",
    "prob = bigrams / bigrams.sum(dim=1, keepdim=True)\n",
    "\n",
    "def gen():\n",
    "    i = 0\n",
    "    w = []\n",
    "    while True:\n",
    "        i = torch.multinomial(prob[i], num_samples=1, replacement=True, generator=g).item()\n",
    "        if i == 0:\n",
    "            break\n",
    "        w.append(idx_to_chrs[i])\n",
    "        \n",
    "    return ''.join(w) \n",
    "\n",
    "for i in range(5):\n",
    "    print(gen())    "
   ]
  },
  {
   "cell_type": "markdown",
   "metadata": {},
   "source": [
    "## loglikelihood loss\n"
   ]
  },
  {
   "cell_type": "code",
   "execution_count": 7,
   "metadata": {},
   "outputs": [
    {
     "name": "stdout",
     "output_type": "stream",
     "text": [
      "minus log likelihood:  tensor(2.4541)\n"
     ]
    }
   ],
   "source": [
    "ll = 0.\n",
    "n = 0\n",
    "for w in words:\n",
    "    w_chrs = ['.'] + list(w) + ['.']\n",
    "    for b in zip(w_chrs, w_chrs[1:]):\n",
    "        ll += torch.log(prob[chrs_to_idx[b[0]], chrs_to_idx[b[1]]])\n",
    "        n += 1\n",
    "\n",
    "print(\"minus log likelihood: \", -ll / n)\n"
   ]
  },
  {
   "cell_type": "markdown",
   "metadata": {},
   "source": [
    "## single layer neural net"
   ]
  },
  {
   "cell_type": "code",
   "execution_count": 8,
   "metadata": {},
   "outputs": [],
   "source": [
    "xs = []\n",
    "ys=[]\n",
    "for w in words:\n",
    "    w_chrs = ['.'] + list(w) + ['.']\n",
    "    for b in zip(w_chrs, w_chrs[1:]):\n",
    "        xs.append(chrs_to_idx[b[0]]) \n",
    "        ys.append(chrs_to_idx[b[1]])\n",
    "\n",
    "xs = torch.tensor(xs)\n",
    "ys = torch.tensor(ys)\n"
   ]
  },
  {
   "cell_type": "markdown",
   "metadata": {},
   "source": [
    "### train loop"
   ]
  },
  {
   "cell_type": "code",
   "execution_count": 9,
   "metadata": {},
   "outputs": [],
   "source": [
    "import torch.nn.functional as F\n",
    "\n",
    "g = torch.Generator().manual_seed(2147483647)\n",
    "\n",
    "W = torch.randn((27, 27), generator=g, requires_grad=True)\n",
    "x_enc = F.one_hot(xs, num_classes=27).float()\n"
   ]
  },
  {
   "cell_type": "code",
   "execution_count": 14,
   "metadata": {},
   "outputs": [
    {
     "name": "stdout",
     "output_type": "stream",
     "text": [
      "0 2.454225778579712\n",
      "100 2.454225540161133\n",
      "200 2.454225778579712\n",
      "300 2.454225540161133\n",
      "400 2.454225540161133\n",
      "500 2.454225540161133\n",
      "600 2.4542253017425537\n",
      "700 2.4542253017425537\n",
      "800 2.4542250633239746\n",
      "900 2.4542250633239746\n",
      "1000 2.4542250633239746\n",
      "1100 2.4542250633239746\n",
      "1200 2.4542250633239746\n",
      "1300 2.4542250633239746\n",
      "1400 2.4542250633239746\n",
      "1500 2.4542248249053955\n",
      "1600 2.4542248249053955\n",
      "1700 2.4542248249053955\n",
      "1800 2.4542248249053955\n",
      "1900 2.4542245864868164\n",
      "2000 2.4542245864868164\n",
      "2100 2.4542245864868164\n",
      "2200 2.4542245864868164\n",
      "2300 2.4542245864868164\n",
      "2400 2.454224109649658\n",
      "2500 2.454224109649658\n",
      "2600 2.454224109649658\n",
      "2700 2.454223871231079\n",
      "2800 2.454223871231079\n",
      "2900 2.454223871231079\n",
      "3000 2.454223871231079\n",
      "3100 2.4542236328125\n",
      "3200 2.4542236328125\n",
      "3300 2.4542236328125\n",
      "3400 2.454223394393921\n",
      "3500 2.454223394393921\n",
      "3600 2.454223394393921\n",
      "3700 2.454223394393921\n",
      "3800 2.454223394393921\n",
      "3900 2.454223394393921\n",
      "4000 2.454223394393921\n",
      "4100 2.454223155975342\n",
      "4200 2.4542229175567627\n",
      "4300 2.4542229175567627\n",
      "4400 2.4542229175567627\n",
      "4500 2.4542229175567627\n",
      "4600 2.4542229175567627\n",
      "4700 2.4542229175567627\n",
      "4800 2.4542229175567627\n",
      "4900 2.4542229175567627\n"
     ]
    }
   ],
   "source": [
    "for i in range(5000):\n",
    "    logits = x_enc @ W\n",
    "    counts = logits.exp()\n",
    "    prob = counts / counts.sum(dim=1, keepdim=True)\n",
    "    loss = -prob[torch.arange(ys.shape[0]), ys].log().mean()\n",
    "    if i%100==0: print(i, loss.item())\n",
    "\n",
    "    # backward pass\n",
    "    W.grad = None\n",
    "    loss.backward()\n",
    "\n",
    "    # update weights\n",
    "    W.data -= 1 * W.grad"
   ]
  },
  {
   "cell_type": "code",
   "execution_count": 13,
   "metadata": {},
   "outputs": [
    {
     "name": "stdout",
     "output_type": "stream",
     "text": [
      "all: 2.454225778579712\n"
     ]
    }
   ],
   "source": [
    "logits = x_enc @ W\n",
    "counts = logits.exp()\n",
    "prob = counts / counts.sum(dim=1, keepdim=True)\n",
    "loss = -prob[torch.arange(ys.shape[0]), ys].log().mean()\n",
    "print(\"all:\", loss.item())"
   ]
  },
  {
   "cell_type": "code",
   "execution_count": 91,
   "metadata": {},
   "outputs": [
    {
     "ename": "IndexError",
     "evalue": "Dimension out of range (expected to be in range of [-1, 0], but got 1)",
     "output_type": "error",
     "traceback": [
      "\u001b[0;31m---------------------------------------------------------------------------\u001b[0m",
      "\u001b[0;31mIndexError\u001b[0m                                Traceback (most recent call last)",
      "Cell \u001b[0;32mIn[91], line 16\u001b[0m\n\u001b[1;32m     13\u001b[0m     \u001b[38;5;28;01mreturn\u001b[39;00m \u001b[38;5;124m'\u001b[39m\u001b[38;5;124m'\u001b[39m\u001b[38;5;241m.\u001b[39mjoin(w) \n\u001b[1;32m     15\u001b[0m \u001b[38;5;28;01mfor\u001b[39;00m i \u001b[38;5;129;01min\u001b[39;00m \u001b[38;5;28mrange\u001b[39m(\u001b[38;5;241m5\u001b[39m):\n\u001b[0;32m---> 16\u001b[0m     \u001b[38;5;28mprint\u001b[39m(\u001b[43mgen2\u001b[49m\u001b[43m(\u001b[49m\u001b[43m)\u001b[49m)   \n",
      "Cell \u001b[0;32mIn[91], line 7\u001b[0m, in \u001b[0;36mgen2\u001b[0;34m()\u001b[0m\n\u001b[1;32m      5\u001b[0m \u001b[38;5;28;01mwhile\u001b[39;00m \u001b[38;5;28;01mTrue\u001b[39;00m:\n\u001b[1;32m      6\u001b[0m     logits \u001b[38;5;241m=\u001b[39m F\u001b[38;5;241m.\u001b[39mone_hot(torch\u001b[38;5;241m.\u001b[39mtensor(i), num_classes\u001b[38;5;241m=\u001b[39m\u001b[38;5;28mlen\u001b[39m(idx_to_chrs))\u001b[38;5;241m.\u001b[39mfloat() \u001b[38;5;241m@\u001b[39m W\n\u001b[0;32m----> 7\u001b[0m     prob \u001b[38;5;241m=\u001b[39m \u001b[43mlogits\u001b[49m\u001b[38;5;241;43m.\u001b[39;49m\u001b[43msoftmax\u001b[49m\u001b[43m(\u001b[49m\u001b[43mdim\u001b[49m\u001b[38;5;241;43m=\u001b[39;49m\u001b[38;5;241;43m1\u001b[39;49m\u001b[43m)\u001b[49m\n\u001b[1;32m      8\u001b[0m     i \u001b[38;5;241m=\u001b[39m torch\u001b[38;5;241m.\u001b[39mmultinomial(prob, num_samples\u001b[38;5;241m=\u001b[39m\u001b[38;5;241m1\u001b[39m, replacement\u001b[38;5;241m=\u001b[39m\u001b[38;5;28;01mTrue\u001b[39;00m, generator\u001b[38;5;241m=\u001b[39mg)\u001b[38;5;241m.\u001b[39mitem()\n\u001b[1;32m      9\u001b[0m     \u001b[38;5;28;01mif\u001b[39;00m i \u001b[38;5;241m==\u001b[39m \u001b[38;5;241m0\u001b[39m:\n",
      "\u001b[0;31mIndexError\u001b[0m: Dimension out of range (expected to be in range of [-1, 0], but got 1)"
     ]
    }
   ],
   "source": [
    "g = torch.Generator().manual_seed(2147483647)\n",
    "def gen2():\n",
    "    i = 0\n",
    "    w = []\n",
    "    while True:\n",
    "        logits = F.one_hot(torch.tensor(i), num_classes=len(idx_to_chrs)).float() @ W\n",
    "        prob = logits.softmax(dim=1)\n",
    "        i = torch.multinomial(prob, num_samples=1, replacement=True, generator=g).item()\n",
    "        if i == 0:\n",
    "            break\n",
    "        w.append(idx_to_chrs[i])\n",
    "        \n",
    "    return ''.join(w) \n",
    "\n",
    "for i in range(5):\n",
    "    print(gen2())   "
   ]
  },
  {
   "cell_type": "markdown",
   "metadata": {},
   "source": [
    "# MLP"
   ]
  },
  {
   "cell_type": "code",
   "execution_count": 16,
   "metadata": {},
   "outputs": [
    {
     "name": "stdout",
     "output_type": "stream",
     "text": [
      "182534 22760 22852\n"
     ]
    }
   ],
   "source": [
    "\n",
    "def build_dataset(ws, context_size):\n",
    "    xs = []\n",
    "    ys = []\n",
    "    for w in ws:\n",
    "        w_chrs = list(w) + ['.']\n",
    "        context = [0]*context_size\n",
    "        for c in w_chrs:\n",
    "            xs.append(context) \n",
    "            ys.append(chrs_to_idx[c])\n",
    "            context = context[1:] + [chrs_to_idx[c]]\n",
    "\n",
    "    xs = torch.tensor(xs)\n",
    "    ys = torch.tensor(ys)\n",
    "    return xs, ys\n",
    "\n",
    "context_size = 3\n",
    "i = int(0.8*len(words))\n",
    "j = int(0.9*len(words))\n",
    "\n",
    "import random\n",
    "random.seed(7)\n",
    "random.shuffle(words)\n",
    "\n",
    "xs, ys = build_dataset(words, context_size)\n",
    "xs_train, ys_train = build_dataset(words[:i], context_size)\n",
    "xs_dev, ys_dev = build_dataset(words[i:j], context_size)\n",
    "xs_test, ys_test = build_dataset(words[j:], context_size)\n",
    "print(xs_train.shape[0], xs_dev.shape[0], xs_test.shape[0])\n"
   ]
  },
  {
   "cell_type": "code",
   "execution_count": 77,
   "metadata": {},
   "outputs": [
    {
     "name": "stdout",
     "output_type": "stream",
     "text": [
      "13062\n"
     ]
    }
   ],
   "source": [
    "g = torch.Generator().manual_seed(2147483647)\n",
    "\n",
    "embed_dim = 5\n",
    "C = torch.randn((num_of_chrs, embed_dim))\n",
    "W1 = torch.randn((embed_dim*context_size, 300))\n",
    "b1 = torch.randn(W1.shape[1])\n",
    "W2 = torch.randn((W1.shape[1], num_of_chrs))\n",
    "b2 = torch.randn(W2.shape[1])\n",
    "parameters = [C, W1, b1, W2, b2]\n",
    "for p in parameters:\n",
    "    p.requires_grad = True\n",
    "print(sum(p.nelement() for p in parameters))"
   ]
  },
  {
   "cell_type": "code",
   "execution_count": 78,
   "metadata": {},
   "outputs": [
    {
     "name": "stdout",
     "output_type": "stream",
     "text": [
      "0 31.815332412719727\n",
      "1000 2.946598768234253\n",
      "2000 2.8605165481567383\n",
      "3000 2.599379777908325\n",
      "4000 2.674997091293335\n",
      "5000 2.8058102130889893\n",
      "6000 2.7197022438049316\n",
      "7000 2.389604091644287\n",
      "8000 2.362464189529419\n",
      "9000 2.398045063018799\n",
      "10000 2.5223069190979004\n",
      "11000 2.37623929977417\n",
      "12000 2.589987277984619\n",
      "13000 2.7209746837615967\n",
      "14000 2.4425113201141357\n",
      "15000 2.5649735927581787\n",
      "16000 2.2295610904693604\n",
      "17000 2.768744468688965\n",
      "18000 2.2626163959503174\n",
      "19000 2.5192530155181885\n",
      "20000 3.03179669380188\n",
      "21000 2.5672898292541504\n",
      "22000 2.4312102794647217\n",
      "23000 2.339897632598877\n",
      "24000 2.5827412605285645\n",
      "25000 2.1548588275909424\n",
      "26000 2.4665205478668213\n",
      "27000 2.0891032218933105\n",
      "28000 2.615455150604248\n",
      "29000 2.303227663040161\n",
      "30000 2.615334987640381\n",
      "31000 2.840022563934326\n",
      "32000 2.3497157096862793\n",
      "33000 2.117356777191162\n",
      "34000 2.182185411453247\n",
      "35000 2.409621477127075\n",
      "36000 2.3095762729644775\n",
      "37000 2.812910318374634\n",
      "38000 2.373359441757202\n",
      "39000 2.30637526512146\n",
      "40000 2.478598117828369\n",
      "41000 2.3138821125030518\n",
      "42000 2.492318630218506\n",
      "43000 2.1602351665496826\n",
      "44000 2.2490885257720947\n",
      "45000 2.268604278564453\n",
      "46000 2.43759822845459\n",
      "47000 2.501290798187256\n",
      "48000 2.2211785316467285\n",
      "49000 2.4483864307403564\n",
      "50000 2.180680990219116\n",
      "51000 2.4969239234924316\n",
      "52000 2.3590199947357178\n",
      "53000 2.568110227584839\n",
      "54000 2.361753225326538\n",
      "55000 2.383527994155884\n",
      "56000 2.142237663269043\n",
      "57000 2.573106050491333\n",
      "58000 2.247330904006958\n",
      "59000 2.5887186527252197\n",
      "60000 2.021441698074341\n",
      "61000 2.14888596534729\n",
      "62000 2.5999114513397217\n",
      "63000 2.0917868614196777\n",
      "64000 2.278367042541504\n",
      "65000 2.2438390254974365\n",
      "66000 2.009972333908081\n",
      "67000 2.163780689239502\n",
      "68000 2.323011875152588\n",
      "69000 2.2891480922698975\n",
      "70000 2.487818717956543\n",
      "71000 2.2190535068511963\n",
      "72000 2.326767921447754\n",
      "73000 2.5214569568634033\n",
      "74000 2.3234221935272217\n",
      "75000 2.454887628555298\n",
      "76000 2.0039985179901123\n",
      "77000 2.6647305488586426\n",
      "78000 2.2716658115386963\n",
      "79000 2.669421672821045\n",
      "80000 2.684600353240967\n",
      "81000 2.3639419078826904\n",
      "82000 2.306992292404175\n",
      "83000 2.605567455291748\n",
      "84000 2.493208646774292\n",
      "85000 2.2400856018066406\n",
      "86000 2.161144971847534\n",
      "87000 2.326537609100342\n",
      "88000 2.3926117420196533\n",
      "89000 2.1911673545837402\n",
      "90000 2.417926549911499\n",
      "91000 2.4164609909057617\n",
      "92000 2.338054895401001\n",
      "93000 2.4334030151367188\n",
      "94000 2.565521717071533\n",
      "95000 2.5094566345214844\n",
      "96000 2.3592581748962402\n",
      "97000 2.3545737266540527\n",
      "98000 2.516738176345825\n",
      "99000 2.65256667137146\n",
      "100000 2.2940874099731445\n",
      "101000 2.1760711669921875\n",
      "102000 1.90937340259552\n",
      "103000 2.3128836154937744\n",
      "104000 2.1787707805633545\n",
      "105000 1.772789716720581\n",
      "106000 2.484299421310425\n",
      "107000 2.3155603408813477\n",
      "108000 2.3343505859375\n",
      "109000 2.0084750652313232\n",
      "110000 2.0480613708496094\n",
      "111000 2.4503633975982666\n",
      "112000 2.0112600326538086\n",
      "113000 2.096223831176758\n",
      "114000 1.9938321113586426\n",
      "115000 2.1603493690490723\n",
      "116000 2.1503777503967285\n",
      "117000 2.052588701248169\n",
      "118000 2.0943191051483154\n",
      "119000 2.4888041019439697\n",
      "120000 2.3409273624420166\n",
      "121000 2.0414090156555176\n",
      "122000 2.2419705390930176\n",
      "123000 2.1703343391418457\n",
      "124000 2.095085382461548\n",
      "125000 2.175147771835327\n",
      "126000 2.500577211380005\n",
      "127000 2.468984842300415\n",
      "128000 1.8798949718475342\n",
      "129000 1.7686870098114014\n",
      "130000 2.121934652328491\n",
      "131000 2.3018715381622314\n",
      "132000 2.2624783515930176\n",
      "133000 2.027845859527588\n",
      "134000 1.987533688545227\n",
      "135000 1.872509241104126\n",
      "136000 1.9499837160110474\n",
      "137000 2.180349111557007\n",
      "138000 2.1494438648223877\n",
      "139000 1.9282221794128418\n",
      "140000 2.2664296627044678\n",
      "141000 2.358337879180908\n",
      "142000 2.1345603466033936\n",
      "143000 2.481667995452881\n",
      "144000 2.301083564758301\n",
      "145000 2.275937795639038\n",
      "146000 2.1941895484924316\n",
      "147000 1.9585254192352295\n",
      "148000 2.124269723892212\n",
      "149000 2.199544668197632\n",
      "150000 2.0963637828826904\n",
      "151000 2.0729565620422363\n",
      "152000 2.383420467376709\n",
      "153000 2.243858575820923\n",
      "154000 1.8463836908340454\n",
      "155000 2.048506736755371\n",
      "156000 2.1171376705169678\n",
      "157000 2.102060079574585\n",
      "158000 2.2284719944000244\n",
      "159000 2.296004056930542\n",
      "160000 2.465214729309082\n",
      "161000 2.3018558025360107\n",
      "162000 1.899329662322998\n",
      "163000 2.1049063205718994\n",
      "164000 2.426640510559082\n",
      "165000 2.027191400527954\n",
      "166000 1.9641181230545044\n",
      "167000 2.0443480014801025\n",
      "168000 2.1673834323883057\n",
      "169000 2.262805938720703\n",
      "170000 2.0716865062713623\n",
      "171000 1.9593474864959717\n",
      "172000 2.219588279724121\n",
      "173000 2.25266695022583\n",
      "174000 2.2077739238739014\n",
      "175000 2.3649415969848633\n",
      "176000 2.1874008178710938\n",
      "177000 2.078096866607666\n",
      "178000 2.1067311763763428\n",
      "179000 2.1237549781799316\n",
      "180000 2.1502573490142822\n",
      "181000 2.065622568130493\n",
      "182000 2.1783053874969482\n",
      "183000 2.17175555229187\n",
      "184000 2.1531381607055664\n",
      "185000 2.0309898853302\n",
      "186000 2.161947727203369\n",
      "187000 2.163959264755249\n",
      "188000 1.9798089265823364\n",
      "189000 2.2136664390563965\n",
      "190000 2.0594470500946045\n",
      "191000 2.1722121238708496\n",
      "192000 2.385024309158325\n",
      "193000 2.3038785457611084\n",
      "194000 1.9717711210250854\n",
      "195000 1.8783577680587769\n",
      "196000 2.140636682510376\n",
      "197000 2.1895289421081543\n",
      "198000 1.8602038621902466\n",
      "199000 2.0538759231567383\n"
     ]
    }
   ],
   "source": [
    "batch_size = 60\n",
    "\n",
    "# lossi = []\n",
    "# lre = torch.linspace(-3,0,1000)\n",
    "# lrii = 10**lre\n",
    "\n",
    "def batch_forward(x,y):\n",
    "    emb = C[x]\n",
    "    m = torch.tanh(emb.view((-1, context_size*embed_dim)) @ W1 + b1)\n",
    "    logits = m @ W2 + b2\n",
    "    return F.cross_entropy(logits, y)\n",
    "\n",
    "for i in range(200000):\n",
    "    # batch\n",
    "    idx = torch.randint(0, xs_train.shape[0], (batch_size,))\n",
    "    x = xs_train[idx]\n",
    "    y = ys_train[idx]\n",
    "    # forward\n",
    "    loss = batch_forward(x,y)\n",
    "\n",
    "    # backwards\n",
    "    for p in parameters:\n",
    "        p.grad = None\n",
    "    loss.backward()\n",
    "\n",
    "    # update\n",
    "    def lr():\n",
    "        if i<100000: return  1e-1\n",
    "        elif i<150000: return 1e-2\n",
    "        else: return 1e-3\n",
    "    lri = lr()\n",
    "    for p in parameters:\n",
    "        p.data += -lri * p.grad\n",
    "\n",
    "    # lri.append(i)\n",
    "    # lossi.append(loss.item())\n",
    "    if i % 1000 == 0:\n",
    "        print(i, loss.item())\n",
    "    \n"
   ]
  },
  {
   "cell_type": "code",
   "execution_count": 60,
   "metadata": {},
   "outputs": [
    {
     "data": {
      "text/plain": [
       "[<matplotlib.lines.Line2D at 0x795a712e6890>]"
      ]
     },
     "execution_count": 60,
     "metadata": {},
     "output_type": "execute_result"
    },
    {
     "data": {
      "image/png": "[encoded data removed]",
      "text/plain": [
       "<Figure size 640x480 with 1 Axes>"
      ]
     },
     "metadata": {},
     "output_type": "display_data"
    }
   ],
   "source": [
    "plt.plot(list(range(300000)), lossi)"
   ]
  },
  {
   "cell_type": "code",
   "execution_count": 79,
   "metadata": {},
   "outputs": [
    {
     "name": "stdout",
     "output_type": "stream",
     "text": [
      "all: 2.1634254455566406\n",
      "train: 2.156360149383545\n",
      "dev: 2.1952602863311768\n"
     ]
    }
   ],
   "source": [
    "loss = batch_forward(xs, ys)\n",
    "print(\"all:\", loss.item())\n",
    "loss = batch_forward(xs_train, ys_train)\n",
    "print(\"train:\", loss.item())\n",
    "loss = batch_forward(xs_dev, ys_dev)\n",
    "print(\"dev:\", loss.item())\n"
   ]
  },
  {
   "cell_type": "code",
   "execution_count": 80,
   "metadata": {},
   "outputs": [
    {
     "name": "stdout",
     "output_type": "stream",
     "text": [
      "test: 2.1881537437438965\n"
     ]
    }
   ],
   "source": [
    "loss = batch_forward(xs_test, ys_test)\n",
    "print(\"test:\", loss.item())"
   ]
  },
  {
   "cell_type": "code",
   "execution_count": 76,
   "metadata": {},
   "outputs": [
    {
     "name": "stdout",
     "output_type": "stream",
     "text": [
      "(27, 3)\n",
      "[-0.21051629  0.4651135   0.9678167   1.5283791  -0.03549856  0.22370246\n",
      "  0.05884338  0.26314777  0.0165347  -0.04325281 -0.12550206 -0.00277822\n",
      " -0.5669253  -0.17700806 -0.41221038  0.2925384   0.18332364 -0.6108084\n",
      " -0.29116392 -0.01535065  0.02738359  0.16958687 -0.21189423 -0.00622117\n",
      "  1.1273987  -0.2924037  -0.13241486]\n"
     ]
    },
    {
     "data": {
      "application/vnd.plotly.v1+json": {
       "config": {
        "plotlyServerURL": "https://plot.ly"
       },
       "data": [
        {
         "mode": "markers",
         "text": [
          ".",
          "a",
          "b",
          "c",
          "d",
          "e",
          "f",
          "g",
          "h",
          "i",
          "j",
          "k",
          "l",
          "m",
          "n",
          "o",
          "p",
          "q",
          "r",
          "s",
          "t",
          "u",
          "v",
          "w",
          "x",
          "y",
          "z"
         ],
         "type": "scatter3d",
         "x": [
          -0.2105162888765335,
          0.46511349081993103,
          0.9678167104721069,
          1.5283790826797485,
          -0.03549856320023537,
          0.22370246052742004,
          0.058843377977609634,
          0.26314777135849,
          0.016534704715013504,
          -0.04325281083583832,
          -0.1255020648241043,
          -0.002778224181383848,
          -0.5669252872467041,
          -0.17700806260108948,
          -0.4122103750705719,
          0.2925384044647217,
          0.18332363665103912,
          -0.6108083724975586,
          -0.29116392135620117,
          -0.015350650064647198,
          0.02738358825445175,
          0.16958686709403992,
          -0.211894229054451,
          -0.006221165880560875,
          1.1273987293243408,
          -0.2924036979675293,
          -0.13241486251354218
         ],
         "y": [
          2.586559534072876,
          0.10053921490907669,
          0.019907476380467415,
          0.4030764102935791,
          -0.44083166122436523,
          0.3235817849636078,
          -0.570000946521759,
          -0.46729379892349243,
          -0.37866446375846863,
          0.45878690481185913,
          -0.31153759360313416,
          -0.3889865279197693,
          -0.26892152428627014,
          -0.57591313123703,
          -0.006124814972281456,
          0.260849267244339,
          -0.4563586711883545,
          -0.3233451545238495,
          -0.21291446685791016,
          -0.20935215055942535,
          -0.3574669063091278,
          0.24600458145141602,
          -0.5452246069908142,
          -0.41920697689056396,
          0.3601735830307007,
          0.29783114790916443,
          -0.38937920331954956
         ],
         "z": [
          1.847299337387085,
          -0.0027017646934837103,
          -0.6974411606788635,
          -0.973426342010498,
          0.17047250270843506,
          0.15960635244846344,
          0.15526878833770752,
          0.2338608354330063,
          -0.1664419025182724,
          -0.06977608054876328,
          -0.07100408524274826,
          0.0864366888999939,
          0.28836172819137573,
          -0.046674709767103195,
          -0.36880558729171753,
          -0.31964999437332153,
          0.26759612560272217,
          1.016182780265808,
          0.001947922632098198,
          0.347692608833313,
          0.3877478837966919,
          -0.13704411685466766,
          0.16912995278835297,
          0.08991802483797073,
          -0.5428139567375183,
          0.03336802124977112,
          0.12892422080039978
         ]
        }
       ],
       "layout": {
        "template": {
         "data": {
          "bar": [
           {
            "error_x": {
             "color": "#2a3f5f"
            },
            "error_y": {
             "color": "#2a3f5f"
            },
            "marker": {
             "line": {
              "color": "#E5ECF6",
              "width": 0.5
             },
             "pattern": {
              "fillmode": "overlay",
              "size": 10,
              "solidity": 0.2
             }
            },
            "type": "bar"
           }
          ],
          "barpolar": [
           {
            "marker": {
             "line": {
              "color": "#E5ECF6",
              "width": 0.5
             },
             "pattern": {
              "fillmode": "overlay",
              "size": 10,
              "solidity": 0.2
             }
            },
            "type": "barpolar"
           }
          ],
          "carpet": [
           {
            "aaxis": {
             "endlinecolor": "#2a3f5f",
             "gridcolor": "white",
             "linecolor": "white",
             "minorgridcolor": "white",
             "startlinecolor": "#2a3f5f"
            },
            "baxis": {
             "endlinecolor": "#2a3f5f",
             "gridcolor": "white",
             "linecolor": "white",
             "minorgridcolor": "white",
             "startlinecolor": "#2a3f5f"
            },
            "type": "carpet"
           }
          ],
          "choropleth": [
           {
            "colorbar": {
             "outlinewidth": 0,
             "ticks": ""
            },
            "type": "choropleth"
           }
          ],
          "contour": [
           {
            "colorbar": {
             "outlinewidth": 0,
             "ticks": ""
            },
            "colorscale": [
             [
              0,
              "#0d0887"
             ],
             [
              0.1111111111111111,
              "#46039f"
             ],
             [
              0.2222222222222222,
              "#7201a8"
             ],
             [
              0.3333333333333333,
              "#9c179e"
             ],
             [
              0.4444444444444444,
              "#bd3786"
             ],
             [
              0.5555555555555556,
              "#d8576b"
             ],
             [
              0.6666666666666666,
              "#ed7953"
             ],
             [
              0.7777777777777778,
              "#fb9f3a"
             ],
             [
              0.8888888888888888,
              "#fdca26"
             ],
             [
              1,
              "#f0f921"
             ]
            ],
            "type": "contour"
           }
          ],
          "contourcarpet": [
           {
            "colorbar": {
             "outlinewidth": 0,
             "ticks": ""
            },
            "type": "contourcarpet"
           }
          ],
          "heatmap": [
           {
            "colorbar": {
             "outlinewidth": 0,
             "ticks": ""
            },
            "colorscale": [
             [
              0,
              "#0d0887"
             ],
             [
              0.1111111111111111,
              "#46039f"
             ],
             [
              0.2222222222222222,
              "#7201a8"
             ],
             [
              0.3333333333333333,
              "#9c179e"
             ],
             [
              0.4444444444444444,
              "#bd3786"
             ],
             [
              0.5555555555555556,
              "#d8576b"
             ],
             [
              0.6666666666666666,
              "#ed7953"
             ],
             [
              0.7777777777777778,
              "#fb9f3a"
             ],
             [
              0.8888888888888888,
              "#fdca26"
             ],
             [
              1,
              "#f0f921"
             ]
            ],
            "type": "heatmap"
           }
          ],
          "heatmapgl": [
           {
            "colorbar": {
             "outlinewidth": 0,
             "ticks": ""
            },
            "colorscale": [
             [
              0,
              "#0d0887"
             ],
             [
              0.1111111111111111,
              "#46039f"
             ],
             [
              0.2222222222222222,
              "#7201a8"
             ],
             [
              0.3333333333333333,
              "#9c179e"
             ],
             [
              0.4444444444444444,
              "#bd3786"
             ],
             [
              0.5555555555555556,
              "#d8576b"
             ],
             [
              0.6666666666666666,
              "#ed7953"
             ],
             [
              0.7777777777777778,
              "#fb9f3a"
             ],
             [
              0.8888888888888888,
              "#fdca26"
             ],
             [
              1,
              "#f0f921"
             ]
            ],
            "type": "heatmapgl"
           }
          ],
          "histogram": [
           {
            "marker": {
             "pattern": {
              "fillmode": "overlay",
              "size": 10,
              "solidity": 0.2
             }
            },
            "type": "histogram"
           }
          ],
          "histogram2d": [
           {
            "colorbar": {
             "outlinewidth": 0,
             "ticks": ""
            },
            "colorscale": [
             [
              0,
              "#0d0887"
             ],
             [
              0.1111111111111111,
              "#46039f"
             ],
             [
              0.2222222222222222,
              "#7201a8"
             ],
             [
              0.3333333333333333,
              "#9c179e"
             ],
             [
              0.4444444444444444,
              "#bd3786"
             ],
             [
              0.5555555555555556,
              "#d8576b"
             ],
             [
              0.6666666666666666,
              "#ed7953"
             ],
             [
              0.7777777777777778,
              "#fb9f3a"
             ],
             [
              0.8888888888888888,
              "#fdca26"
             ],
             [
              1,
              "#f0f921"
             ]
            ],
            "type": "histogram2d"
           }
          ],
          "histogram2dcontour": [
           {
            "colorbar": {
             "outlinewidth": 0,
             "ticks": ""
            },
            "colorscale": [
             [
              0,
              "#0d0887"
             ],
             [
              0.1111111111111111,
              "#46039f"
             ],
             [
              0.2222222222222222,
              "#7201a8"
             ],
             [
              0.3333333333333333,
              "#9c179e"
             ],
             [
              0.4444444444444444,
              "#bd3786"
             ],
             [
              0.5555555555555556,
              "#d8576b"
             ],
             [
              0.6666666666666666,
              "#ed7953"
             ],
             [
              0.7777777777777778,
              "#fb9f3a"
             ],
             [
              0.8888888888888888,
              "#fdca26"
             ],
             [
              1,
              "#f0f921"
             ]
            ],
            "type": "histogram2dcontour"
           }
          ],
          "mesh3d": [
           {
            "colorbar": {
             "outlinewidth": 0,
             "ticks": ""
            },
            "type": "mesh3d"
           }
          ],
          "parcoords": [
           {
            "line": {
             "colorbar": {
              "outlinewidth": 0,
              "ticks": ""
             }
            },
            "type": "parcoords"
           }
          ],
          "pie": [
           {
            "automargin": true,
            "type": "pie"
           }
          ],
          "scatter": [
           {
            "fillpattern": {
             "fillmode": "overlay",
             "size": 10,
             "solidity": 0.2
            },
            "type": "scatter"
           }
          ],
          "scatter3d": [
           {
            "line": {
             "colorbar": {
              "outlinewidth": 0,
              "ticks": ""
             }
            },
            "marker": {
             "colorbar": {
              "outlinewidth": 0,
              "ticks": ""
             }
            },
            "type": "scatter3d"
           }
          ],
          "scattercarpet": [
           {
            "marker": {
             "colorbar": {
              "outlinewidth": 0,
              "ticks": ""
             }
            },
            "type": "scattercarpet"
           }
          ],
          "scattergeo": [
           {
            "marker": {
             "colorbar": {
              "outlinewidth": 0,
              "ticks": ""
             }
            },
            "type": "scattergeo"
           }
          ],
          "scattergl": [
           {
            "marker": {
             "colorbar": {
              "outlinewidth": 0,
              "ticks": ""
             }
            },
            "type": "scattergl"
           }
          ],
          "scattermapbox": [
           {
            "marker": {
             "colorbar": {
              "outlinewidth": 0,
              "ticks": ""
             }
            },
            "type": "scattermapbox"
           }
          ],
          "scatterpolar": [
           {
            "marker": {
             "colorbar": {
              "outlinewidth": 0,
              "ticks": ""
             }
            },
            "type": "scatterpolar"
           }
          ],
          "scatterpolargl": [
           {
            "marker": {
             "colorbar": {
              "outlinewidth": 0,
              "ticks": ""
             }
            },
            "type": "scatterpolargl"
           }
          ],
          "scatterternary": [
           {
            "marker": {
             "colorbar": {
              "outlinewidth": 0,
              "ticks": ""
             }
            },
            "type": "scatterternary"
           }
          ],
          "surface": [
           {
            "colorbar": {
             "outlinewidth": 0,
             "ticks": ""
            },
            "colorscale": [
             [
              0,
              "#0d0887"
             ],
             [
              0.1111111111111111,
              "#46039f"
             ],
             [
              0.2222222222222222,
              "#7201a8"
             ],
             [
              0.3333333333333333,
              "#9c179e"
             ],
             [
              0.4444444444444444,
              "#bd3786"
             ],
             [
              0.5555555555555556,
              "#d8576b"
             ],
             [
              0.6666666666666666,
              "#ed7953"
             ],
             [
              0.7777777777777778,
              "#fb9f3a"
             ],
             [
              0.8888888888888888,
              "#fdca26"
             ],
             [
              1,
              "#f0f921"
             ]
            ],
            "type": "surface"
           }
          ],
          "table": [
           {
            "cells": {
             "fill": {
              "color": "#EBF0F8"
             },
             "line": {
              "color": "white"
             }
            },
            "header": {
             "fill": {
              "color": "#C8D4E3"
             },
             "line": {
              "color": "white"
             }
            },
            "type": "table"
           }
          ]
         },
         "layout": {
          "annotationdefaults": {
           "arrowcolor": "#2a3f5f",
           "arrowhead": 0,
           "arrowwidth": 1
          },
          "autotypenumbers": "strict",
          "coloraxis": {
           "colorbar": {
            "outlinewidth": 0,
            "ticks": ""
           }
          },
          "colorscale": {
           "diverging": [
            [
             0,
             "#8e0152"
            ],
            [
             0.1,
             "#c51b7d"
            ],
            [
             0.2,
             "#de77ae"
            ],
            [
             0.3,
             "#f1b6da"
            ],
            [
             0.4,
             "#fde0ef"
            ],
            [
             0.5,
             "#f7f7f7"
            ],
            [
             0.6,
             "#e6f5d0"
            ],
            [
             0.7,
             "#b8e186"
            ],
            [
             0.8,
             "#7fbc41"
            ],
            [
             0.9,
             "#4d9221"
            ],
            [
             1,
             "#276419"
            ]
           ],
           "sequential": [
            [
             0,
             "#0d0887"
            ],
            [
             0.1111111111111111,
             "#46039f"
            ],
            [
             0.2222222222222222,
             "#7201a8"
            ],
            [
             0.3333333333333333,
             "#9c179e"
            ],
            [
             0.4444444444444444,
             "#bd3786"
            ],
            [
             0.5555555555555556,
             "#d8576b"
            ],
            [
             0.6666666666666666,
             "#ed7953"
            ],
            [
             0.7777777777777778,
             "#fb9f3a"
            ],
            [
             0.8888888888888888,
             "#fdca26"
            ],
            [
             1,
             "#f0f921"
            ]
           ],
           "sequentialminus": [
            [
             0,
             "#0d0887"
            ],
            [
             0.1111111111111111,
             "#46039f"
            ],
            [
             0.2222222222222222,
             "#7201a8"
            ],
            [
             0.3333333333333333,
             "#9c179e"
            ],
            [
             0.4444444444444444,
             "#bd3786"
            ],
            [
             0.5555555555555556,
             "#d8576b"
            ],
            [
             0.6666666666666666,
             "#ed7953"
            ],
            [
             0.7777777777777778,
             "#fb9f3a"
            ],
            [
             0.8888888888888888,
             "#fdca26"
            ],
            [
             1,
             "#f0f921"
            ]
           ]
          },
          "colorway": [
           "#636efa",
           "#EF553B",
           "#00cc96",
           "#ab63fa",
           "#FFA15A",
           "#19d3f3",
           "#FF6692",
           "#B6E880",
           "#FF97FF",
           "#FECB52"
          ],
          "font": {
           "color": "#2a3f5f"
          },
          "geo": {
           "bgcolor": "white",
           "lakecolor": "white",
           "landcolor": "#E5ECF6",
           "showlakes": true,
           "showland": true,
           "subunitcolor": "white"
          },
          "hoverlabel": {
           "align": "left"
          },
          "hovermode": "closest",
          "mapbox": {
           "style": "light"
          },
          "paper_bgcolor": "white",
          "plot_bgcolor": "#E5ECF6",
          "polar": {
           "angularaxis": {
            "gridcolor": "white",
            "linecolor": "white",
            "ticks": ""
           },
           "bgcolor": "#E5ECF6",
           "radialaxis": {
            "gridcolor": "white",
            "linecolor": "white",
            "ticks": ""
           }
          },
          "scene": {
           "xaxis": {
            "backgroundcolor": "#E5ECF6",
            "gridcolor": "white",
            "gridwidth": 2,
            "linecolor": "white",
            "showbackground": true,
            "ticks": "",
            "zerolinecolor": "white"
           },
           "yaxis": {
            "backgroundcolor": "#E5ECF6",
            "gridcolor": "white",
            "gridwidth": 2,
            "linecolor": "white",
            "showbackground": true,
            "ticks": "",
            "zerolinecolor": "white"
           },
           "zaxis": {
            "backgroundcolor": "#E5ECF6",
            "gridcolor": "white",
            "gridwidth": 2,
            "linecolor": "white",
            "showbackground": true,
            "ticks": "",
            "zerolinecolor": "white"
           }
          },
          "shapedefaults": {
           "line": {
            "color": "#2a3f5f"
           }
          },
          "ternary": {
           "aaxis": {
            "gridcolor": "white",
            "linecolor": "white",
            "ticks": ""
           },
           "baxis": {
            "gridcolor": "white",
            "linecolor": "white",
            "ticks": ""
           },
           "bgcolor": "#E5ECF6",
           "caxis": {
            "gridcolor": "white",
            "linecolor": "white",
            "ticks": ""
           }
          },
          "title": {
           "x": 0.05
          },
          "xaxis": {
           "automargin": true,
           "gridcolor": "white",
           "linecolor": "white",
           "ticks": "",
           "title": {
            "standoff": 15
           },
           "zerolinecolor": "white",
           "zerolinewidth": 2
          },
          "yaxis": {
           "automargin": true,
           "gridcolor": "white",
           "linecolor": "white",
           "ticks": "",
           "title": {
            "standoff": 15
           },
           "zerolinecolor": "white",
           "zerolinewidth": 2
          }
         }
        }
       }
      }
     },
     "metadata": {},
     "output_type": "display_data"
    }
   ],
   "source": [
    "num_C = C.detach().numpy()\n",
    "print(num_C.shape)\n",
    "print(num_C[:,0])\n",
    "f = go.Figure(go.Scatter3d(x=num_C[:,0],y=num_C[:,1],z=num_C[:,2], text=chrs, mode=\"markers\"))\n",
    "f.show()"
   ]
  },
  {
   "cell_type": "code",
   "execution_count": 93,
   "metadata": {},
   "outputs": [
    {
     "name": "stdout",
     "output_type": "stream",
     "text": [
      "junnee\n",
      "jakasid\n",
      "pres\n",
      "azaina\n",
      "koi\n",
      "ritolian\n",
      "juham\n",
      "sametauria\n",
      "leviaj\n",
      "dedaile\n",
      "imel\n",
      "sei\n",
      "inayla\n",
      "terindeumarif\n",
      "demiyan\n",
      "nastina\n",
      "jaylinore\n",
      "yaezon\n",
      "kaevandreed\n",
      "miki\n"
     ]
    }
   ],
   "source": [
    "g = torch.Generator().manual_seed(2147483647)\n",
    "def gen3():\n",
    "\n",
    "    context = [0]*context_size\n",
    "    w = []\n",
    "    while True:\n",
    "        emb = C[context]\n",
    "        m = torch.tanh(emb.view((-1, context_size*embed_dim)) @ W1 + b1)\n",
    "        logits = m @ W2 + b2\n",
    "        prob = logits.softmax(dim=1)\n",
    "        # print(prob)\n",
    "        idx = torch.multinomial(prob, num_samples=1, replacement=True, generator=g).item()\n",
    "        context = context[1:] + [idx]\n",
    "        if idx == 0:\n",
    "            break\n",
    "        w.append(idx_to_chrs[idx])\n",
    "        \n",
    "    return ''.join(w) \n",
    "\n",
    "for i in range(20):\n",
    "    print(gen3())   "
   ]
  }
 ],
 "metadata": {
  "kernelspec": {
   "display_name": ".venv",
   "language": "python",
   "name": "python3"
  },
  "language_info": {
   "codemirror_mode": {
    "name": "ipython",
    "version": 3
   },
   "file_extension": ".py",
   "mimetype": "text/x-python",
   "name": "python",
   "nbconvert_exporter": "python",
   "pygments_lexer": "ipython3",
   "version": "3.10.14"
  }
 },
 "nbformat": 4,
 "nbformat_minor": 2
}
